{
 "cells": [
  {
   "cell_type": "markdown",
   "metadata": {},
   "source": [
    "                                      HOTEL BOOKING DEMAND DATASET ANALYSIS.\n",
    "\n",
    "## INTRODUCTION: ABOUT THIS DATASET.\n",
    "Have you ever wondered when the best time of the year to book a hotel room is? Or the optimal length of stay in order to get the best daily rate? What if you wanted to predict whether or not a hotel was likely to receive a disproportionately high number of special requests?This hotel booking dataset can help you explore those questions!\n",
    "\n",
    "## CONTENT.\n",
    "The dataset for this project contains booking information for a City hotel and a Resort hotel, and includes information as when the booking was made, number of adults,children and/or babies, length of stay, and the number of available parking spaces, among other things.\n",
    "\n",
    "MY ANALYSIS WILL FOCUS ON PROVIDING ANSWERS TO THE FOLLOWING QUESTIONS:\n",
    "\n",
    "1. How many bookings were cancelled?\n",
    "\n",
    "2. What is the percentage of booking for each year?\n",
    "\n",
    "3. Which is the busiest months for hotels?\n",
    "\n",
    "4. From which country does most guest come from?\n",
    "\n",
    "5. How long do guest stay in the hotel?\n",
    "\n",
    "6. What is the booking ratio between Resort hotel and City hotel?\n",
    "\n",
    "7. Which was the most booked accommodation type(single, couple, family)?\n",
    "\n",
    ".  When we are done with providing answers to this questions, we will build a predictive model to make predictions in the future whether a booking will be cancelled or not."
   ]
  },
  {
   "cell_type": "code",
   "execution_count": 1,
   "metadata": {},
   "outputs": [],
   "source": [
    "# import libraries\n",
    "#!pip install pycountry\n",
    "\n",
    "import numpy as np\n",
    "import pandas as pd\n",
    "import seaborn as sns\n",
    "\n",
    "import matplotlib.pyplot as plt\n",
    "import statsmodels.formula.api as smf\n",
    "\n",
    "from sklearn.metrics import accuracy_score, roc_auc_score, roc_curve, confusion_matrix, auc\n",
    "from sklearn.model_selection import train_test_split, cross_val_score, GridSearchCV\n",
    "from sklearn.preprocessing import LabelEncoder, StandardScaler \n",
    "\n",
    "from sklearn.tree import DecisionTreeClassifier\n",
    "from sklearn.linear_model import LogisticRegression\n",
    "from sklearn.naive_bayes import GaussianNB\n",
    "from sklearn.ensemble import RandomForestClassifier\n",
    "\n",
    "from warnings import filterwarnings\n",
    "filterwarnings('ignore')"
   ]
  },
  {
   "cell_type": "code",
   "execution_count": 2,
   "metadata": {},
   "outputs": [],
   "source": [
    "# Import data\n",
    "hotel = pd.read_csv('hotel_bookings.csv')"
   ]
  },
  {
   "cell_type": "markdown",
   "metadata": {},
   "source": [
    "##  View of data"
   ]
  },
  {
   "cell_type": "code",
   "execution_count": 3,
   "metadata": {},
   "outputs": [
    {
     "data": {
      "text/html": [
       "<div>\n",
       "<style scoped>\n",
       "    .dataframe tbody tr th:only-of-type {\n",
       "        vertical-align: middle;\n",
       "    }\n",
       "\n",
       "    .dataframe tbody tr th {\n",
       "        vertical-align: top;\n",
       "    }\n",
       "\n",
       "    .dataframe thead th {\n",
       "        text-align: right;\n",
       "    }\n",
       "</style>\n",
       "<table border=\"1\" class=\"dataframe\">\n",
       "  <thead>\n",
       "    <tr style=\"text-align: right;\">\n",
       "      <th></th>\n",
       "      <th>hotel</th>\n",
       "      <th>is_canceled</th>\n",
       "      <th>lead_time</th>\n",
       "      <th>arrival_date_year</th>\n",
       "      <th>arrival_date_month</th>\n",
       "      <th>arrival_date_week_number</th>\n",
       "      <th>arrival_date_day_of_month</th>\n",
       "      <th>stays_in_weekend_nights</th>\n",
       "      <th>stays_in_week_nights</th>\n",
       "      <th>adults</th>\n",
       "      <th>...</th>\n",
       "      <th>deposit_type</th>\n",
       "      <th>agent</th>\n",
       "      <th>company</th>\n",
       "      <th>days_in_waiting_list</th>\n",
       "      <th>customer_type</th>\n",
       "      <th>adr</th>\n",
       "      <th>required_car_parking_spaces</th>\n",
       "      <th>total_of_special_requests</th>\n",
       "      <th>reservation_status</th>\n",
       "      <th>reservation_status_date</th>\n",
       "    </tr>\n",
       "  </thead>\n",
       "  <tbody>\n",
       "    <tr>\n",
       "      <th>0</th>\n",
       "      <td>Resort Hotel</td>\n",
       "      <td>0</td>\n",
       "      <td>342</td>\n",
       "      <td>2015</td>\n",
       "      <td>July</td>\n",
       "      <td>27</td>\n",
       "      <td>1</td>\n",
       "      <td>0</td>\n",
       "      <td>0</td>\n",
       "      <td>2</td>\n",
       "      <td>...</td>\n",
       "      <td>No Deposit</td>\n",
       "      <td>NaN</td>\n",
       "      <td>NaN</td>\n",
       "      <td>0</td>\n",
       "      <td>Transient</td>\n",
       "      <td>0.0</td>\n",
       "      <td>0</td>\n",
       "      <td>0</td>\n",
       "      <td>Check-Out</td>\n",
       "      <td>2015-07-01</td>\n",
       "    </tr>\n",
       "    <tr>\n",
       "      <th>1</th>\n",
       "      <td>Resort Hotel</td>\n",
       "      <td>0</td>\n",
       "      <td>737</td>\n",
       "      <td>2015</td>\n",
       "      <td>July</td>\n",
       "      <td>27</td>\n",
       "      <td>1</td>\n",
       "      <td>0</td>\n",
       "      <td>0</td>\n",
       "      <td>2</td>\n",
       "      <td>...</td>\n",
       "      <td>No Deposit</td>\n",
       "      <td>NaN</td>\n",
       "      <td>NaN</td>\n",
       "      <td>0</td>\n",
       "      <td>Transient</td>\n",
       "      <td>0.0</td>\n",
       "      <td>0</td>\n",
       "      <td>0</td>\n",
       "      <td>Check-Out</td>\n",
       "      <td>2015-07-01</td>\n",
       "    </tr>\n",
       "    <tr>\n",
       "      <th>2</th>\n",
       "      <td>Resort Hotel</td>\n",
       "      <td>0</td>\n",
       "      <td>7</td>\n",
       "      <td>2015</td>\n",
       "      <td>July</td>\n",
       "      <td>27</td>\n",
       "      <td>1</td>\n",
       "      <td>0</td>\n",
       "      <td>1</td>\n",
       "      <td>1</td>\n",
       "      <td>...</td>\n",
       "      <td>No Deposit</td>\n",
       "      <td>NaN</td>\n",
       "      <td>NaN</td>\n",
       "      <td>0</td>\n",
       "      <td>Transient</td>\n",
       "      <td>75.0</td>\n",
       "      <td>0</td>\n",
       "      <td>0</td>\n",
       "      <td>Check-Out</td>\n",
       "      <td>2015-07-02</td>\n",
       "    </tr>\n",
       "    <tr>\n",
       "      <th>3</th>\n",
       "      <td>Resort Hotel</td>\n",
       "      <td>0</td>\n",
       "      <td>13</td>\n",
       "      <td>2015</td>\n",
       "      <td>July</td>\n",
       "      <td>27</td>\n",
       "      <td>1</td>\n",
       "      <td>0</td>\n",
       "      <td>1</td>\n",
       "      <td>1</td>\n",
       "      <td>...</td>\n",
       "      <td>No Deposit</td>\n",
       "      <td>304.0</td>\n",
       "      <td>NaN</td>\n",
       "      <td>0</td>\n",
       "      <td>Transient</td>\n",
       "      <td>75.0</td>\n",
       "      <td>0</td>\n",
       "      <td>0</td>\n",
       "      <td>Check-Out</td>\n",
       "      <td>2015-07-02</td>\n",
       "    </tr>\n",
       "    <tr>\n",
       "      <th>4</th>\n",
       "      <td>Resort Hotel</td>\n",
       "      <td>0</td>\n",
       "      <td>14</td>\n",
       "      <td>2015</td>\n",
       "      <td>July</td>\n",
       "      <td>27</td>\n",
       "      <td>1</td>\n",
       "      <td>0</td>\n",
       "      <td>2</td>\n",
       "      <td>2</td>\n",
       "      <td>...</td>\n",
       "      <td>No Deposit</td>\n",
       "      <td>240.0</td>\n",
       "      <td>NaN</td>\n",
       "      <td>0</td>\n",
       "      <td>Transient</td>\n",
       "      <td>98.0</td>\n",
       "      <td>0</td>\n",
       "      <td>1</td>\n",
       "      <td>Check-Out</td>\n",
       "      <td>2015-07-03</td>\n",
       "    </tr>\n",
       "  </tbody>\n",
       "</table>\n",
       "<p>5 rows × 32 columns</p>\n",
       "</div>"
      ],
      "text/plain": [
       "          hotel  is_canceled  lead_time  arrival_date_year arrival_date_month  \\\n",
       "0  Resort Hotel            0        342               2015               July   \n",
       "1  Resort Hotel            0        737               2015               July   \n",
       "2  Resort Hotel            0          7               2015               July   \n",
       "3  Resort Hotel            0         13               2015               July   \n",
       "4  Resort Hotel            0         14               2015               July   \n",
       "\n",
       "   arrival_date_week_number  arrival_date_day_of_month  \\\n",
       "0                        27                          1   \n",
       "1                        27                          1   \n",
       "2                        27                          1   \n",
       "3                        27                          1   \n",
       "4                        27                          1   \n",
       "\n",
       "   stays_in_weekend_nights  stays_in_week_nights  adults  ...  deposit_type  \\\n",
       "0                        0                     0       2  ...    No Deposit   \n",
       "1                        0                     0       2  ...    No Deposit   \n",
       "2                        0                     1       1  ...    No Deposit   \n",
       "3                        0                     1       1  ...    No Deposit   \n",
       "4                        0                     2       2  ...    No Deposit   \n",
       "\n",
       "   agent company days_in_waiting_list customer_type   adr  \\\n",
       "0    NaN     NaN                    0     Transient   0.0   \n",
       "1    NaN     NaN                    0     Transient   0.0   \n",
       "2    NaN     NaN                    0     Transient  75.0   \n",
       "3  304.0     NaN                    0     Transient  75.0   \n",
       "4  240.0     NaN                    0     Transient  98.0   \n",
       "\n",
       "   required_car_parking_spaces  total_of_special_requests  reservation_status  \\\n",
       "0                            0                          0           Check-Out   \n",
       "1                            0                          0           Check-Out   \n",
       "2                            0                          0           Check-Out   \n",
       "3                            0                          0           Check-Out   \n",
       "4                            0                          1           Check-Out   \n",
       "\n",
       "  reservation_status_date  \n",
       "0              2015-07-01  \n",
       "1              2015-07-01  \n",
       "2              2015-07-02  \n",
       "3              2015-07-02  \n",
       "4              2015-07-03  \n",
       "\n",
       "[5 rows x 32 columns]"
      ]
     },
     "execution_count": 3,
     "metadata": {},
     "output_type": "execute_result"
    }
   ],
   "source": [
    "# Show the first five rows\n",
    "hotel.head()"
   ]
  },
  {
   "cell_type": "code",
   "execution_count": 4,
   "metadata": {},
   "outputs": [
    {
     "data": {
      "text/html": [
       "<div>\n",
       "<style scoped>\n",
       "    .dataframe tbody tr th:only-of-type {\n",
       "        vertical-align: middle;\n",
       "    }\n",
       "\n",
       "    .dataframe tbody tr th {\n",
       "        vertical-align: top;\n",
       "    }\n",
       "\n",
       "    .dataframe thead th {\n",
       "        text-align: right;\n",
       "    }\n",
       "</style>\n",
       "<table border=\"1\" class=\"dataframe\">\n",
       "  <thead>\n",
       "    <tr style=\"text-align: right;\">\n",
       "      <th></th>\n",
       "      <th>hotel</th>\n",
       "      <th>is_canceled</th>\n",
       "      <th>lead_time</th>\n",
       "      <th>arrival_date_year</th>\n",
       "      <th>arrival_date_month</th>\n",
       "      <th>arrival_date_week_number</th>\n",
       "      <th>arrival_date_day_of_month</th>\n",
       "      <th>stays_in_weekend_nights</th>\n",
       "      <th>stays_in_week_nights</th>\n",
       "      <th>adults</th>\n",
       "      <th>...</th>\n",
       "      <th>deposit_type</th>\n",
       "      <th>agent</th>\n",
       "      <th>company</th>\n",
       "      <th>days_in_waiting_list</th>\n",
       "      <th>customer_type</th>\n",
       "      <th>adr</th>\n",
       "      <th>required_car_parking_spaces</th>\n",
       "      <th>total_of_special_requests</th>\n",
       "      <th>reservation_status</th>\n",
       "      <th>reservation_status_date</th>\n",
       "    </tr>\n",
       "  </thead>\n",
       "  <tbody>\n",
       "    <tr>\n",
       "      <th>119385</th>\n",
       "      <td>City Hotel</td>\n",
       "      <td>0</td>\n",
       "      <td>23</td>\n",
       "      <td>2017</td>\n",
       "      <td>August</td>\n",
       "      <td>35</td>\n",
       "      <td>30</td>\n",
       "      <td>2</td>\n",
       "      <td>5</td>\n",
       "      <td>2</td>\n",
       "      <td>...</td>\n",
       "      <td>No Deposit</td>\n",
       "      <td>394.0</td>\n",
       "      <td>NaN</td>\n",
       "      <td>0</td>\n",
       "      <td>Transient</td>\n",
       "      <td>96.14</td>\n",
       "      <td>0</td>\n",
       "      <td>0</td>\n",
       "      <td>Check-Out</td>\n",
       "      <td>2017-09-06</td>\n",
       "    </tr>\n",
       "    <tr>\n",
       "      <th>119386</th>\n",
       "      <td>City Hotel</td>\n",
       "      <td>0</td>\n",
       "      <td>102</td>\n",
       "      <td>2017</td>\n",
       "      <td>August</td>\n",
       "      <td>35</td>\n",
       "      <td>31</td>\n",
       "      <td>2</td>\n",
       "      <td>5</td>\n",
       "      <td>3</td>\n",
       "      <td>...</td>\n",
       "      <td>No Deposit</td>\n",
       "      <td>9.0</td>\n",
       "      <td>NaN</td>\n",
       "      <td>0</td>\n",
       "      <td>Transient</td>\n",
       "      <td>225.43</td>\n",
       "      <td>0</td>\n",
       "      <td>2</td>\n",
       "      <td>Check-Out</td>\n",
       "      <td>2017-09-07</td>\n",
       "    </tr>\n",
       "    <tr>\n",
       "      <th>119387</th>\n",
       "      <td>City Hotel</td>\n",
       "      <td>0</td>\n",
       "      <td>34</td>\n",
       "      <td>2017</td>\n",
       "      <td>August</td>\n",
       "      <td>35</td>\n",
       "      <td>31</td>\n",
       "      <td>2</td>\n",
       "      <td>5</td>\n",
       "      <td>2</td>\n",
       "      <td>...</td>\n",
       "      <td>No Deposit</td>\n",
       "      <td>9.0</td>\n",
       "      <td>NaN</td>\n",
       "      <td>0</td>\n",
       "      <td>Transient</td>\n",
       "      <td>157.71</td>\n",
       "      <td>0</td>\n",
       "      <td>4</td>\n",
       "      <td>Check-Out</td>\n",
       "      <td>2017-09-07</td>\n",
       "    </tr>\n",
       "    <tr>\n",
       "      <th>119388</th>\n",
       "      <td>City Hotel</td>\n",
       "      <td>0</td>\n",
       "      <td>109</td>\n",
       "      <td>2017</td>\n",
       "      <td>August</td>\n",
       "      <td>35</td>\n",
       "      <td>31</td>\n",
       "      <td>2</td>\n",
       "      <td>5</td>\n",
       "      <td>2</td>\n",
       "      <td>...</td>\n",
       "      <td>No Deposit</td>\n",
       "      <td>89.0</td>\n",
       "      <td>NaN</td>\n",
       "      <td>0</td>\n",
       "      <td>Transient</td>\n",
       "      <td>104.40</td>\n",
       "      <td>0</td>\n",
       "      <td>0</td>\n",
       "      <td>Check-Out</td>\n",
       "      <td>2017-09-07</td>\n",
       "    </tr>\n",
       "    <tr>\n",
       "      <th>119389</th>\n",
       "      <td>City Hotel</td>\n",
       "      <td>0</td>\n",
       "      <td>205</td>\n",
       "      <td>2017</td>\n",
       "      <td>August</td>\n",
       "      <td>35</td>\n",
       "      <td>29</td>\n",
       "      <td>2</td>\n",
       "      <td>7</td>\n",
       "      <td>2</td>\n",
       "      <td>...</td>\n",
       "      <td>No Deposit</td>\n",
       "      <td>9.0</td>\n",
       "      <td>NaN</td>\n",
       "      <td>0</td>\n",
       "      <td>Transient</td>\n",
       "      <td>151.20</td>\n",
       "      <td>0</td>\n",
       "      <td>2</td>\n",
       "      <td>Check-Out</td>\n",
       "      <td>2017-09-07</td>\n",
       "    </tr>\n",
       "  </tbody>\n",
       "</table>\n",
       "<p>5 rows × 32 columns</p>\n",
       "</div>"
      ],
      "text/plain": [
       "             hotel  is_canceled  lead_time  arrival_date_year  \\\n",
       "119385  City Hotel            0         23               2017   \n",
       "119386  City Hotel            0        102               2017   \n",
       "119387  City Hotel            0         34               2017   \n",
       "119388  City Hotel            0        109               2017   \n",
       "119389  City Hotel            0        205               2017   \n",
       "\n",
       "       arrival_date_month  arrival_date_week_number  \\\n",
       "119385             August                        35   \n",
       "119386             August                        35   \n",
       "119387             August                        35   \n",
       "119388             August                        35   \n",
       "119389             August                        35   \n",
       "\n",
       "        arrival_date_day_of_month  stays_in_weekend_nights  \\\n",
       "119385                         30                        2   \n",
       "119386                         31                        2   \n",
       "119387                         31                        2   \n",
       "119388                         31                        2   \n",
       "119389                         29                        2   \n",
       "\n",
       "        stays_in_week_nights  adults  ...  deposit_type  agent company  \\\n",
       "119385                     5       2  ...    No Deposit  394.0     NaN   \n",
       "119386                     5       3  ...    No Deposit    9.0     NaN   \n",
       "119387                     5       2  ...    No Deposit    9.0     NaN   \n",
       "119388                     5       2  ...    No Deposit   89.0     NaN   \n",
       "119389                     7       2  ...    No Deposit    9.0     NaN   \n",
       "\n",
       "       days_in_waiting_list customer_type     adr  \\\n",
       "119385                    0     Transient   96.14   \n",
       "119386                    0     Transient  225.43   \n",
       "119387                    0     Transient  157.71   \n",
       "119388                    0     Transient  104.40   \n",
       "119389                    0     Transient  151.20   \n",
       "\n",
       "        required_car_parking_spaces  total_of_special_requests  \\\n",
       "119385                            0                          0   \n",
       "119386                            0                          2   \n",
       "119387                            0                          4   \n",
       "119388                            0                          0   \n",
       "119389                            0                          2   \n",
       "\n",
       "        reservation_status reservation_status_date  \n",
       "119385           Check-Out              2017-09-06  \n",
       "119386           Check-Out              2017-09-07  \n",
       "119387           Check-Out              2017-09-07  \n",
       "119388           Check-Out              2017-09-07  \n",
       "119389           Check-Out              2017-09-07  \n",
       "\n",
       "[5 rows x 32 columns]"
      ]
     },
     "execution_count": 4,
     "metadata": {},
     "output_type": "execute_result"
    }
   ],
   "source": [
    "hotel.tail()"
   ]
  },
  {
   "cell_type": "code",
   "execution_count": 5,
   "metadata": {},
   "outputs": [
    {
     "data": {
      "text/plain": [
       "(119390, 32)"
      ]
     },
     "execution_count": 5,
     "metadata": {},
     "output_type": "execute_result"
    }
   ],
   "source": [
    "hotel.shape"
   ]
  },
  {
   "cell_type": "markdown",
   "metadata": {},
   "source": [
    "From above, we can observe that it returned (119390, 32), that means there are 119390 rows of data with 32 columns."
   ]
  },
  {
   "cell_type": "markdown",
   "metadata": {},
   "source": [
    "## DATA PROCESSING"
   ]
  },
  {
   "cell_type": "markdown",
   "metadata": {},
   "source": [
    "## DESCRIPTIVE STATISTICAL ANALYSIS!\n",
    "   \n",
    " The dataset variable itself is a dictionary, so we can check for its keys using the .keys() method.\n",
    "\n",
    "\n",
    " Keys() function is used to know all the column attribute names as illustrated below."
   ]
  },
  {
   "cell_type": "code",
   "execution_count": 6,
   "metadata": {},
   "outputs": [
    {
     "data": {
      "text/plain": [
       "Index(['hotel', 'is_canceled', 'lead_time', 'arrival_date_year',\n",
       "       'arrival_date_month', 'arrival_date_week_number',\n",
       "       'arrival_date_day_of_month', 'stays_in_weekend_nights',\n",
       "       'stays_in_week_nights', 'adults', 'children', 'babies', 'meal',\n",
       "       'country', 'market_segment', 'distribution_channel',\n",
       "       'is_repeated_guest', 'previous_cancellations',\n",
       "       'previous_bookings_not_canceled', 'reserved_room_type',\n",
       "       'assigned_room_type', 'booking_changes', 'deposit_type', 'agent',\n",
       "       'company', 'days_in_waiting_list', 'customer_type', 'adr',\n",
       "       'required_car_parking_spaces', 'total_of_special_requests',\n",
       "       'reservation_status', 'reservation_status_date'],\n",
       "      dtype='object')"
      ]
     },
     "execution_count": 6,
     "metadata": {},
     "output_type": "execute_result"
    }
   ],
   "source": [
    "hotel.keys()"
   ]
  },
  {
   "cell_type": "markdown",
   "metadata": {},
   "source": [
    "The description of the dataset is available in the dataset itself. We can view it using \"Describe()\"."
   ]
  },
  {
   "cell_type": "code",
   "execution_count": 7,
   "metadata": {},
   "outputs": [
    {
     "data": {
      "text/html": [
       "<div>\n",
       "<style scoped>\n",
       "    .dataframe tbody tr th:only-of-type {\n",
       "        vertical-align: middle;\n",
       "    }\n",
       "\n",
       "    .dataframe tbody tr th {\n",
       "        vertical-align: top;\n",
       "    }\n",
       "\n",
       "    .dataframe thead th {\n",
       "        text-align: right;\n",
       "    }\n",
       "</style>\n",
       "<table border=\"1\" class=\"dataframe\">\n",
       "  <thead>\n",
       "    <tr style=\"text-align: right;\">\n",
       "      <th></th>\n",
       "      <th>count</th>\n",
       "      <th>mean</th>\n",
       "      <th>std</th>\n",
       "      <th>min</th>\n",
       "      <th>25%</th>\n",
       "      <th>50%</th>\n",
       "      <th>75%</th>\n",
       "      <th>max</th>\n",
       "    </tr>\n",
       "  </thead>\n",
       "  <tbody>\n",
       "    <tr>\n",
       "      <th>is_canceled</th>\n",
       "      <td>119390.0</td>\n",
       "      <td>0.370416</td>\n",
       "      <td>0.482918</td>\n",
       "      <td>0.00</td>\n",
       "      <td>0.00</td>\n",
       "      <td>0.000</td>\n",
       "      <td>1.0</td>\n",
       "      <td>1.0</td>\n",
       "    </tr>\n",
       "    <tr>\n",
       "      <th>lead_time</th>\n",
       "      <td>119390.0</td>\n",
       "      <td>104.011416</td>\n",
       "      <td>106.863097</td>\n",
       "      <td>0.00</td>\n",
       "      <td>18.00</td>\n",
       "      <td>69.000</td>\n",
       "      <td>160.0</td>\n",
       "      <td>737.0</td>\n",
       "    </tr>\n",
       "    <tr>\n",
       "      <th>arrival_date_year</th>\n",
       "      <td>119390.0</td>\n",
       "      <td>2016.156554</td>\n",
       "      <td>0.707476</td>\n",
       "      <td>2015.00</td>\n",
       "      <td>2016.00</td>\n",
       "      <td>2016.000</td>\n",
       "      <td>2017.0</td>\n",
       "      <td>2017.0</td>\n",
       "    </tr>\n",
       "    <tr>\n",
       "      <th>arrival_date_week_number</th>\n",
       "      <td>119390.0</td>\n",
       "      <td>27.165173</td>\n",
       "      <td>13.605138</td>\n",
       "      <td>1.00</td>\n",
       "      <td>16.00</td>\n",
       "      <td>28.000</td>\n",
       "      <td>38.0</td>\n",
       "      <td>53.0</td>\n",
       "    </tr>\n",
       "    <tr>\n",
       "      <th>arrival_date_day_of_month</th>\n",
       "      <td>119390.0</td>\n",
       "      <td>15.798241</td>\n",
       "      <td>8.780829</td>\n",
       "      <td>1.00</td>\n",
       "      <td>8.00</td>\n",
       "      <td>16.000</td>\n",
       "      <td>23.0</td>\n",
       "      <td>31.0</td>\n",
       "    </tr>\n",
       "    <tr>\n",
       "      <th>stays_in_weekend_nights</th>\n",
       "      <td>119390.0</td>\n",
       "      <td>0.927599</td>\n",
       "      <td>0.998613</td>\n",
       "      <td>0.00</td>\n",
       "      <td>0.00</td>\n",
       "      <td>1.000</td>\n",
       "      <td>2.0</td>\n",
       "      <td>19.0</td>\n",
       "    </tr>\n",
       "    <tr>\n",
       "      <th>stays_in_week_nights</th>\n",
       "      <td>119390.0</td>\n",
       "      <td>2.500302</td>\n",
       "      <td>1.908286</td>\n",
       "      <td>0.00</td>\n",
       "      <td>1.00</td>\n",
       "      <td>2.000</td>\n",
       "      <td>3.0</td>\n",
       "      <td>50.0</td>\n",
       "    </tr>\n",
       "    <tr>\n",
       "      <th>adults</th>\n",
       "      <td>119390.0</td>\n",
       "      <td>1.856403</td>\n",
       "      <td>0.579261</td>\n",
       "      <td>0.00</td>\n",
       "      <td>2.00</td>\n",
       "      <td>2.000</td>\n",
       "      <td>2.0</td>\n",
       "      <td>55.0</td>\n",
       "    </tr>\n",
       "    <tr>\n",
       "      <th>children</th>\n",
       "      <td>119386.0</td>\n",
       "      <td>0.103890</td>\n",
       "      <td>0.398561</td>\n",
       "      <td>0.00</td>\n",
       "      <td>0.00</td>\n",
       "      <td>0.000</td>\n",
       "      <td>0.0</td>\n",
       "      <td>10.0</td>\n",
       "    </tr>\n",
       "    <tr>\n",
       "      <th>babies</th>\n",
       "      <td>119390.0</td>\n",
       "      <td>0.007949</td>\n",
       "      <td>0.097436</td>\n",
       "      <td>0.00</td>\n",
       "      <td>0.00</td>\n",
       "      <td>0.000</td>\n",
       "      <td>0.0</td>\n",
       "      <td>10.0</td>\n",
       "    </tr>\n",
       "    <tr>\n",
       "      <th>is_repeated_guest</th>\n",
       "      <td>119390.0</td>\n",
       "      <td>0.031912</td>\n",
       "      <td>0.175767</td>\n",
       "      <td>0.00</td>\n",
       "      <td>0.00</td>\n",
       "      <td>0.000</td>\n",
       "      <td>0.0</td>\n",
       "      <td>1.0</td>\n",
       "    </tr>\n",
       "    <tr>\n",
       "      <th>previous_cancellations</th>\n",
       "      <td>119390.0</td>\n",
       "      <td>0.087118</td>\n",
       "      <td>0.844336</td>\n",
       "      <td>0.00</td>\n",
       "      <td>0.00</td>\n",
       "      <td>0.000</td>\n",
       "      <td>0.0</td>\n",
       "      <td>26.0</td>\n",
       "    </tr>\n",
       "    <tr>\n",
       "      <th>previous_bookings_not_canceled</th>\n",
       "      <td>119390.0</td>\n",
       "      <td>0.137097</td>\n",
       "      <td>1.497437</td>\n",
       "      <td>0.00</td>\n",
       "      <td>0.00</td>\n",
       "      <td>0.000</td>\n",
       "      <td>0.0</td>\n",
       "      <td>72.0</td>\n",
       "    </tr>\n",
       "    <tr>\n",
       "      <th>booking_changes</th>\n",
       "      <td>119390.0</td>\n",
       "      <td>0.221124</td>\n",
       "      <td>0.652306</td>\n",
       "      <td>0.00</td>\n",
       "      <td>0.00</td>\n",
       "      <td>0.000</td>\n",
       "      <td>0.0</td>\n",
       "      <td>21.0</td>\n",
       "    </tr>\n",
       "    <tr>\n",
       "      <th>agent</th>\n",
       "      <td>103050.0</td>\n",
       "      <td>86.693382</td>\n",
       "      <td>110.774548</td>\n",
       "      <td>1.00</td>\n",
       "      <td>9.00</td>\n",
       "      <td>14.000</td>\n",
       "      <td>229.0</td>\n",
       "      <td>535.0</td>\n",
       "    </tr>\n",
       "    <tr>\n",
       "      <th>company</th>\n",
       "      <td>6797.0</td>\n",
       "      <td>189.266735</td>\n",
       "      <td>131.655015</td>\n",
       "      <td>6.00</td>\n",
       "      <td>62.00</td>\n",
       "      <td>179.000</td>\n",
       "      <td>270.0</td>\n",
       "      <td>543.0</td>\n",
       "    </tr>\n",
       "    <tr>\n",
       "      <th>days_in_waiting_list</th>\n",
       "      <td>119390.0</td>\n",
       "      <td>2.321149</td>\n",
       "      <td>17.594721</td>\n",
       "      <td>0.00</td>\n",
       "      <td>0.00</td>\n",
       "      <td>0.000</td>\n",
       "      <td>0.0</td>\n",
       "      <td>391.0</td>\n",
       "    </tr>\n",
       "    <tr>\n",
       "      <th>adr</th>\n",
       "      <td>119390.0</td>\n",
       "      <td>101.831122</td>\n",
       "      <td>50.535790</td>\n",
       "      <td>-6.38</td>\n",
       "      <td>69.29</td>\n",
       "      <td>94.575</td>\n",
       "      <td>126.0</td>\n",
       "      <td>5400.0</td>\n",
       "    </tr>\n",
       "    <tr>\n",
       "      <th>required_car_parking_spaces</th>\n",
       "      <td>119390.0</td>\n",
       "      <td>0.062518</td>\n",
       "      <td>0.245291</td>\n",
       "      <td>0.00</td>\n",
       "      <td>0.00</td>\n",
       "      <td>0.000</td>\n",
       "      <td>0.0</td>\n",
       "      <td>8.0</td>\n",
       "    </tr>\n",
       "    <tr>\n",
       "      <th>total_of_special_requests</th>\n",
       "      <td>119390.0</td>\n",
       "      <td>0.571363</td>\n",
       "      <td>0.792798</td>\n",
       "      <td>0.00</td>\n",
       "      <td>0.00</td>\n",
       "      <td>0.000</td>\n",
       "      <td>1.0</td>\n",
       "      <td>5.0</td>\n",
       "    </tr>\n",
       "  </tbody>\n",
       "</table>\n",
       "</div>"
      ],
      "text/plain": [
       "                                   count         mean         std      min  \\\n",
       "is_canceled                     119390.0     0.370416    0.482918     0.00   \n",
       "lead_time                       119390.0   104.011416  106.863097     0.00   \n",
       "arrival_date_year               119390.0  2016.156554    0.707476  2015.00   \n",
       "arrival_date_week_number        119390.0    27.165173   13.605138     1.00   \n",
       "arrival_date_day_of_month       119390.0    15.798241    8.780829     1.00   \n",
       "stays_in_weekend_nights         119390.0     0.927599    0.998613     0.00   \n",
       "stays_in_week_nights            119390.0     2.500302    1.908286     0.00   \n",
       "adults                          119390.0     1.856403    0.579261     0.00   \n",
       "children                        119386.0     0.103890    0.398561     0.00   \n",
       "babies                          119390.0     0.007949    0.097436     0.00   \n",
       "is_repeated_guest               119390.0     0.031912    0.175767     0.00   \n",
       "previous_cancellations          119390.0     0.087118    0.844336     0.00   \n",
       "previous_bookings_not_canceled  119390.0     0.137097    1.497437     0.00   \n",
       "booking_changes                 119390.0     0.221124    0.652306     0.00   \n",
       "agent                           103050.0    86.693382  110.774548     1.00   \n",
       "company                           6797.0   189.266735  131.655015     6.00   \n",
       "days_in_waiting_list            119390.0     2.321149   17.594721     0.00   \n",
       "adr                             119390.0   101.831122   50.535790    -6.38   \n",
       "required_car_parking_spaces     119390.0     0.062518    0.245291     0.00   \n",
       "total_of_special_requests       119390.0     0.571363    0.792798     0.00   \n",
       "\n",
       "                                    25%       50%     75%     max  \n",
       "is_canceled                        0.00     0.000     1.0     1.0  \n",
       "lead_time                         18.00    69.000   160.0   737.0  \n",
       "arrival_date_year               2016.00  2016.000  2017.0  2017.0  \n",
       "arrival_date_week_number          16.00    28.000    38.0    53.0  \n",
       "arrival_date_day_of_month          8.00    16.000    23.0    31.0  \n",
       "stays_in_weekend_nights            0.00     1.000     2.0    19.0  \n",
       "stays_in_week_nights               1.00     2.000     3.0    50.0  \n",
       "adults                             2.00     2.000     2.0    55.0  \n",
       "children                           0.00     0.000     0.0    10.0  \n",
       "babies                             0.00     0.000     0.0    10.0  \n",
       "is_repeated_guest                  0.00     0.000     0.0     1.0  \n",
       "previous_cancellations             0.00     0.000     0.0    26.0  \n",
       "previous_bookings_not_canceled     0.00     0.000     0.0    72.0  \n",
       "booking_changes                    0.00     0.000     0.0    21.0  \n",
       "agent                              9.00    14.000   229.0   535.0  \n",
       "company                           62.00   179.000   270.0   543.0  \n",
       "days_in_waiting_list               0.00     0.000     0.0   391.0  \n",
       "adr                               69.29    94.575   126.0  5400.0  \n",
       "required_car_parking_spaces        0.00     0.000     0.0     8.0  \n",
       "total_of_special_requests          0.00     0.000     1.0     5.0  "
      ]
     },
     "execution_count": 7,
     "metadata": {},
     "output_type": "execute_result"
    }
   ],
   "source": [
    "hotel.describe().T"
   ]
  },
  {
   "cell_type": "markdown",
   "metadata": {},
   "source": [
    "The above output describes the Statistical values for non categorical columns. It describes the mean, Standard deviation, min and max,etc values on each non-categorical columns."
   ]
  },
  {
   "cell_type": "markdown",
   "metadata": {},
   "source": [
    "Info() method on your DataFrame is use to get useful information about the data; like row count, null column or not and data-type."
   ]
  },
  {
   "cell_type": "code",
   "execution_count": 8,
   "metadata": {},
   "outputs": [
    {
     "name": "stdout",
     "output_type": "stream",
     "text": [
      "<class 'pandas.core.frame.DataFrame'>\n",
      "RangeIndex: 119390 entries, 0 to 119389\n",
      "Data columns (total 32 columns):\n",
      " #   Column                          Non-Null Count   Dtype  \n",
      "---  ------                          --------------   -----  \n",
      " 0   hotel                           119390 non-null  object \n",
      " 1   is_canceled                     119390 non-null  int64  \n",
      " 2   lead_time                       119390 non-null  int64  \n",
      " 3   arrival_date_year               119390 non-null  int64  \n",
      " 4   arrival_date_month              119390 non-null  object \n",
      " 5   arrival_date_week_number        119390 non-null  int64  \n",
      " 6   arrival_date_day_of_month       119390 non-null  int64  \n",
      " 7   stays_in_weekend_nights         119390 non-null  int64  \n",
      " 8   stays_in_week_nights            119390 non-null  int64  \n",
      " 9   adults                          119390 non-null  int64  \n",
      " 10  children                        119386 non-null  float64\n",
      " 11  babies                          119390 non-null  int64  \n",
      " 12  meal                            119390 non-null  object \n",
      " 13  country                         118902 non-null  object \n",
      " 14  market_segment                  119390 non-null  object \n",
      " 15  distribution_channel            119390 non-null  object \n",
      " 16  is_repeated_guest               119390 non-null  int64  \n",
      " 17  previous_cancellations          119390 non-null  int64  \n",
      " 18  previous_bookings_not_canceled  119390 non-null  int64  \n",
      " 19  reserved_room_type              119390 non-null  object \n",
      " 20  assigned_room_type              119390 non-null  object \n",
      " 21  booking_changes                 119390 non-null  int64  \n",
      " 22  deposit_type                    119390 non-null  object \n",
      " 23  agent                           103050 non-null  float64\n",
      " 24  company                         6797 non-null    float64\n",
      " 25  days_in_waiting_list            119390 non-null  int64  \n",
      " 26  customer_type                   119390 non-null  object \n",
      " 27  adr                             119390 non-null  float64\n",
      " 28  required_car_parking_spaces     119390 non-null  int64  \n",
      " 29  total_of_special_requests       119390 non-null  int64  \n",
      " 30  reservation_status              119390 non-null  object \n",
      " 31  reservation_status_date         119390 non-null  object \n",
      "dtypes: float64(4), int64(16), object(12)\n",
      "memory usage: 29.1+ MB\n"
     ]
    }
   ],
   "source": [
    "hotel.info()"
   ]
  },
  {
   "cell_type": "code",
   "execution_count": 9,
   "metadata": {},
   "outputs": [
    {
     "data": {
      "image/png": "[encoded data removed]",
      "text/plain": [
       "<Figure size 1152x1296 with 9 Axes>"
      ]
     },
     "metadata": {
      "needs_background": "light"
     },
     "output_type": "display_data"
    }
   ],
   "source": [
    "# Creating a boxplot for Outlier detection\n",
    "features = ['lead_time', 'stays_in_weekend_nights', 'stays_in_week_nights', 'adults', 'previous_cancellations', 'previous_bookings_not_canceled',\n",
    "            'days_in_waiting_list', 'adr', 'total_of_special_requests']\n",
    "n = 1\n",
    "plt.figure(figsize=(16,18))\n",
    "for feature in features:\n",
    "    plt.subplot(3,3,n)\n",
    "    sns.boxplot(hotel[feature])\n",
    "    n+=1\n",
    "    plt.tight_layout()"
   ]
  },
  {
   "cell_type": "markdown",
   "metadata": {},
   "source": [
    "                            The above illustrations show that there are many outliers."
   ]
  },
  {
   "cell_type": "code",
   "execution_count": 10,
   "metadata": {},
   "outputs": [
    {
     "name": "stdout",
     "output_type": "stream",
     "text": [
      "# of NaN in each columns:\n",
      "hotel                                  0\n",
      "is_canceled                            0\n",
      "lead_time                              0\n",
      "arrival_date_year                      0\n",
      "arrival_date_month                     0\n",
      "arrival_date_week_number               0\n",
      "arrival_date_day_of_month              0\n",
      "stays_in_weekend_nights                0\n",
      "stays_in_week_nights                   0\n",
      "adults                                 0\n",
      "children                               4\n",
      "babies                                 0\n",
      "meal                                   0\n",
      "country                              488\n",
      "market_segment                         0\n",
      "distribution_channel                   0\n",
      "is_repeated_guest                      0\n",
      "previous_cancellations                 0\n",
      "previous_bookings_not_canceled         0\n",
      "reserved_room_type                     0\n",
      "assigned_room_type                     0\n",
      "booking_changes                        0\n",
      "deposit_type                           0\n",
      "agent                              16340\n",
      "company                           112593\n",
      "days_in_waiting_list                   0\n",
      "customer_type                          0\n",
      "adr                                    0\n",
      "required_car_parking_spaces            0\n",
      "total_of_special_requests              0\n",
      "reservation_status                     0\n",
      "reservation_status_date                0\n",
      "dtype: int64\n"
     ]
    }
   ],
   "source": [
    "# checking for null value\n",
    "print(\"# of NaN in each columns:\", hotel.isnull().sum(), sep='\\n')"
   ]
  },
  {
   "cell_type": "code",
   "execution_count": 11,
   "metadata": {},
   "outputs": [],
   "source": [
    "# It is better to copy the original dataset, it might be needed in certain cases.\n",
    "hotel = hotel.copy()"
   ]
  },
  {
   "cell_type": "markdown",
   "metadata": {},
   "source": [
    "##  Exploratory Data Analysis(EDA).\n",
    "\n",
    "Let's extract the information from our data and then try to answer our questions."
   ]
  },
  {
   "cell_type": "markdown",
   "metadata": {},
   "source": [
    "## Q1. How many bookings were cancelled?\n",
    "\n",
    "Lets write a function to get the percentage of different values."
   ]
  },
  {
   "cell_type": "code",
   "execution_count": 12,
   "metadata": {},
   "outputs": [],
   "source": [
    "def get_count(series, limit=None):\n",
    "    \n",
    "    '''\n",
    "    INPUT:\n",
    "        series: Pandas Series (Single Column from DataFrame)\n",
    "        limit:  If value given, limit the output value to first limit samples.\n",
    "    OUTPUT:\n",
    "        x = Unique values\n",
    "        y = Count of unique values\n",
    "    '''\n",
    "    \n",
    "    if limit != None:\n",
    "        series = series.value_counts()[:limit]\n",
    "    else:\n",
    "        series = series.value_counts()\n",
    "    \n",
    "    x = series.index\n",
    "    y = series/series.sum()*100\n",
    "    \n",
    "    return x.values,y.values"
   ]
  },
  {
   "cell_type": "markdown",
   "metadata": {},
   "source": [
    "This function takes a series or data frame column and returns the two arrays.\n",
    "\n",
    "X is our unique value\n",
    "\n",
    "Y is the percentage value of each unique value\n",
    "\n",
    "Now let's use these function on the 'ís_canceled' feature and see the result."
   ]
  },
  {
   "cell_type": "code",
   "execution_count": 13,
   "metadata": {},
   "outputs": [],
   "source": [
    "x,y = get_count(hotel['is_canceled'])"
   ]
  },
  {
   "cell_type": "markdown",
   "metadata": {},
   "source": [
    "\"is_canceled\" have two unique values: 1 if booking got canceled, else 0.\n",
    "\n",
    "Now let’s plot this result.\n",
    "\n",
    "We will write another function like the one above to plot the diagram."
   ]
  },
  {
   "cell_type": "code",
   "execution_count": 14,
   "metadata": {},
   "outputs": [],
   "source": [
    "def plot(x, y, x_label=None,y_label=None, title=None, figsize=(7,5), type='bar'):\n",
    "    \n",
    "    '''\n",
    "    INPUT:\n",
    "        x:        Array containing values for x-axis\n",
    "        y:        Array containing values for y-axis\n",
    "        x_lable:  String value for x-axis label\n",
    "        y_lable:  String value for y-axis label\n",
    "        title:    String value for plot title\n",
    "        figsize:  tuple value, for figure size\n",
    "        type:     type of plot (default is bar plot)\n",
    "        \n",
    "    OUTPUT:\n",
    "        Display the plot\n",
    "    '''\n",
    "    \n",
    "    sns.set_style('darkgrid')\n",
    "    \n",
    "    fig, ax = plt.subplots(figsize=figsize)\n",
    "    \n",
    "    if x_label != None:\n",
    "        ax.set_xlabel(x_label)\n",
    "    \n",
    "    if y_label != None:\n",
    "        ax.set_ylabel(y_label)\n",
    "        \n",
    "    if title != None:\n",
    "        ax.set_title(title)\n",
    "    \n",
    "    if type == 'bar':\n",
    "        sns.barplot(x,y, ax = ax)\n",
    "    elif type == 'line':\n",
    "        sns.lineplot(x,y, ax = ax)\n",
    "        \n",
    "    \n",
    "    plt.show()"
   ]
  },
  {
   "cell_type": "markdown",
   "metadata": {},
   "source": [
    "This function takes two arrays, x and y, and displays the required diagram. The default plot type is a bar plot, but we can also plot the line plot. Optional arguments can be given to display title and labels.\n",
    "\n",
    "Now, let’s call the function."
   ]
  },
  {
   "cell_type": "code",
   "execution_count": 15,
   "metadata": {},
   "outputs": [
    {
     "data": {
      "image/png": "[encoded data removed]",
      "text/plain": [
       "<Figure size 504x360 with 1 Axes>"
      ]
     },
     "metadata": {},
     "output_type": "display_data"
    }
   ],
   "source": [
    "plot(x,y, x_label='booking cancelled (No=0, Yes=1)', y_label='booking(%)')"
   ]
  },
  {
   "cell_type": "code",
   "execution_count": 16,
   "metadata": {},
   "outputs": [
    {
     "data": {
      "text/plain": [
       "(array([0, 1], dtype=int64), array([62.95837172, 37.04162828]))"
      ]
     },
     "execution_count": 16,
     "metadata": {},
     "output_type": "execute_result"
    }
   ],
   "source": [
    "x,y"
   ]
  },
  {
   "cell_type": "markdown",
   "metadata": {},
   "source": [
    "From above illustrated plot, bookings got canceled 37% of the time. While booking guest checked-in (did not cancel the booking ) almost 63% of the time"
   ]
  },
  {
   "cell_type": "markdown",
   "metadata": {},
   "source": [
    "## Q2. What is the percentage of booking for each year?"
   ]
  },
  {
   "cell_type": "code",
   "execution_count": 17,
   "metadata": {},
   "outputs": [
    {
     "data": {
      "image/png": "[encoded data removed]",
      "text/plain": [
       "<Figure size 504x360 with 1 Axes>"
      ]
     },
     "metadata": {},
     "output_type": "display_data"
    }
   ],
   "source": [
    "x,y = get_count(hotel['arrival_date_year'])\n",
    "plot(x,y, x_label='Year', y_label='Total Booking (%)', title='Year comparison')"
   ]
  },
  {
   "cell_type": "markdown",
   "metadata": {},
   "source": [
    "From the plot illustrated above, we can observe that more than double bookings were made in 2016, compared to the previous year of 2015. But the bookings decreased by almost 15% the next year 2017"
   ]
  },
  {
   "cell_type": "markdown",
   "metadata": {},
   "source": [
    "Next, let’s try to separate it by each hotel and then plot the diagram. We will change our code to display the countplot"
   ]
  },
  {
   "cell_type": "code",
   "execution_count": 18,
   "metadata": {},
   "outputs": [
    {
     "data": {
      "image/png": "[encoded data removed]",
      "text/plain": [
       "<Figure size 576x360 with 1 Axes>"
      ]
     },
     "metadata": {},
     "output_type": "display_data"
    }
   ],
   "source": [
    "plt.subplots(figsize=(8,5))\n",
    "sns.countplot(x='arrival_date_year', hue='hotel', data= hotel, palette = 'Set2');"
   ]
  },
  {
   "cell_type": "markdown",
   "metadata": {},
   "source": [
    "              Year-wise and Hotel-wise (side-by-side) comparison"
   ]
  },
  {
   "cell_type": "markdown",
   "metadata": {},
   "source": [
    "## Q3. Which is the most busy months for hotels?"
   ]
  },
  {
   "cell_type": "markdown",
   "metadata": {},
   "source": [
    "To be able to answer this question, We will select the arrival_date_month feature and then get it's value count. Now the resulting data will not be sorted according to month order so we have to sort it. We will make the new list with the names of months in order to sort our data according to this list.\n",
    "\n",
    "We will use the Lineplot to display the trend."
   ]
  },
  {
   "cell_type": "code",
   "execution_count": 19,
   "metadata": {},
   "outputs": [
    {
     "data": {
      "image/png": "[encoded data removed]",
      "text/plain": [
       "<Figure size 1296x432 with 1 Axes>"
      ]
     },
     "metadata": {},
     "output_type": "display_data"
    }
   ],
   "source": [
    "new_order = ['January', 'February', 'March', 'April', 'May', 'June', 'July', 'August', 'September', 'October', 'November', 'December']\n",
    "\n",
    "sorted_months = hotel['arrival_date_month'].value_counts().reindex(new_order)\n",
    "\n",
    "x = sorted_months.index\n",
    "y = sorted_months/sorted_months.sum()*100\n",
    "\n",
    "\n",
    "#sns.lineplot(x, y.values)\n",
    "plot(x, y.values, x_label='Months', y_label='Booking (%)', title='Booking Trend (Monthly)', type='line', figsize=(18,6))"
   ]
  },
  {
   "cell_type": "markdown",
   "metadata": {},
   "source": [
    "                           The above is a line plot to show monthly hotel booking trend"
   ]
  },
  {
   "cell_type": "markdown",
   "metadata": {},
   "source": [
    "As can be seen above, most bookings were made from July to August. While the least bookings were made at the start and end of the year"
   ]
  },
  {
   "cell_type": "markdown",
   "metadata": {},
   "source": [
    "Now, let's try to separate the data for each hotel type and then see what the trend would look like."
   ]
  },
  {
   "cell_type": "code",
   "execution_count": 20,
   "metadata": {},
   "outputs": [
    {
     "data": {
      "image/png": "[encoded data removed]",
      "text/plain": [
       "<Figure size 1296x432 with 1 Axes>"
      ]
     },
     "metadata": {},
     "output_type": "display_data"
    }
   ],
   "source": [
    "## Order of months\n",
    "new_order = ['January', 'February', 'March', 'April', 'May', 'June', 'July', 'August', 'September', 'October', 'November', 'December']\n",
    "\n",
    "\n",
    "## Select only City Hotel\n",
    "sorted_months = hotel.loc[hotel.hotel=='City Hotel' ,'arrival_date_month'].value_counts().reindex(new_order)\n",
    "\n",
    "x1 = sorted_months.index\n",
    "y1 = sorted_months/sorted_months.sum()*100\n",
    "\n",
    "\n",
    "\n",
    "## Select only Resort Hotel\n",
    "sorted_months = hotel.loc[hotel.hotel=='Resort Hotel' ,'arrival_date_month'].value_counts().reindex(new_order)\n",
    "\n",
    "x2 = sorted_months.index\n",
    "y2 = sorted_months/sorted_months.sum()*100\n",
    "\n",
    "\n",
    "\n",
    "\n",
    "\n",
    "\n",
    "## Draw the line plot\n",
    "\n",
    "fig, ax = plt.subplots(figsize=(18,6))\n",
    "\n",
    "ax.set_xlabel('Months')\n",
    "ax.set_ylabel('Booking (%)')\n",
    "ax.set_title('Booking Trend (Monthly)')\n",
    "\n",
    "\n",
    "sns.lineplot(x1, y1.values, label='City Hotel')\n",
    "sns.lineplot(x1, y2.values, label='Resort Hotel')\n",
    "\n",
    "plt.show()"
   ]
  },
  {
   "cell_type": "markdown",
   "metadata": {},
   "source": [
    "From the illustraton above, we can see that the trend is similar with a small noticeable difference. Resort hotel has more bookings at the start and end of the year, and lower bookings in June and September."
   ]
  },
  {
   "cell_type": "markdown",
   "metadata": {},
   "source": [
    "## Q4. From which country does most guest come from?"
   ]
  },
  {
   "cell_type": "markdown",
   "metadata": {},
   "source": [
    "\"Pycountry\" is a very useful python package.We will use this package to get country names from country codes.\n",
    "\n",
    "https://github.com/flyingcircusio/pycountry\n",
    "\n",
    "https://pypi.org/project/pycountry/"
   ]
  },
  {
   "cell_type": "code",
   "execution_count": 21,
   "metadata": {},
   "outputs": [],
   "source": [
    "import pycountry as pc"
   ]
  },
  {
   "cell_type": "code",
   "execution_count": 22,
   "metadata": {},
   "outputs": [],
   "source": [
    "hotel_cat = hotel.columns[hotel.dtypes == 'object']"
   ]
  },
  {
   "cell_type": "code",
   "execution_count": 23,
   "metadata": {},
   "outputs": [
    {
     "data": {
      "image/png": "[encoded data removed]",
      "text/plain": [
       "<Figure size 1080x504 with 1 Axes>"
      ]
     },
     "metadata": {},
     "output_type": "display_data"
    }
   ],
   "source": [
    "x,y = get_count(hotel['country'], limit=10)\n",
    "\n",
    "# For each country code, we will select the country name \n",
    "country_name = [pc.countries.get(alpha_3=name).name for name in x]\n",
    "\n",
    "plot(country_name,y, x_label='Countries', y_label='Total Booking (%)', title='country-wise comparison', figsize=(15,7))"
   ]
  },
  {
   "cell_type": "markdown",
   "metadata": {},
   "source": [
    "From above,we observe that Portugal,UK,France,Spain and Germany are the top countries from which most guests come from. This means that more than 80% of guest come from these 5 countries."
   ]
  },
  {
   "cell_type": "markdown",
   "metadata": {},
   "source": [
    "## Q5. How long do guest stay in the hotel?"
   ]
  },
  {
   "cell_type": "code",
   "execution_count": 24,
   "metadata": {},
   "outputs": [
    {
     "data": {
      "image/png": "[encoded data removed]",
      "text/plain": [
       "<Figure size 720x360 with 1 Axes>"
      ]
     },
     "metadata": {},
     "output_type": "display_data"
    }
   ],
   "source": [
    "total_nights = hotel['stays_in_weekend_nights']+ hotel['stays_in_week_nights']\n",
    "x,y = get_count(total_nights, limit=10)\n",
    "\n",
    "plot(x,y, x_label='Number of Nights', y_label='Booking Percentage (%)', title='Night Stay Duration (Top 10)', figsize=(10,5))"
   ]
  },
  {
   "cell_type": "markdown",
   "metadata": {},
   "source": [
    "From the plot above, we will observe that most of the guest stay longer between two,three, one and four. This means that more than 60% of guest come under these options."
   ]
  },
  {
   "cell_type": "markdown",
   "metadata": {},
   "source": [
    "Let’s see the stay duration trend for each hotel type"
   ]
  },
  {
   "cell_type": "code",
   "execution_count": 25,
   "metadata": {},
   "outputs": [
    {
     "data": {
      "image/png": "[encoded data removed]",
      "text/plain": [
       "<Figure size 720x432 with 1 Axes>"
      ]
     },
     "metadata": {},
     "output_type": "display_data"
    }
   ],
   "source": [
    "hotel.loc[:,'total_nights'] = hotel['stays_in_weekend_nights']+ hotel['stays_in_week_nights']\n",
    "\n",
    "fig, ax = plt.subplots(figsize=(10,6))\n",
    "ax.set_xlabel('No of Nights')\n",
    "ax.set_ylabel('No of Nights')\n",
    "ax.set_title('Hotel wise night stay duration (Top 10)')\n",
    "sns.countplot(x='total_nights', hue='hotel', data=hotel,\n",
    "              order = hotel.total_nights.value_counts().iloc[:10].index, ax=ax);"
   ]
  },
  {
   "cell_type": "markdown",
   "metadata": {},
   "source": [
    "For Resort hotel, the most popular stay duration is one, seven, two, three, and four days respectively.\n",
    "\n",
    "For City hotel, most popular stay duration is two, three, one, four and five(weeks) respectively."
   ]
  },
  {
   "cell_type": "markdown",
   "metadata": {},
   "source": [
    "## Q6. What is the booking ratio between Resort hotel and City hotel?"
   ]
  },
  {
   "cell_type": "markdown",
   "metadata": {},
   "source": [
    "We will now reuse the functions that we created earlier. All we have to do is to pass the dataframe column to get_count() function and pass its result (x and y array) to plot function."
   ]
  },
  {
   "cell_type": "code",
   "execution_count": 26,
   "metadata": {},
   "outputs": [
    {
     "data": {
      "image/png": "[encoded data removed]",
      "text/plain": [
       "<Figure size 504x360 with 1 Axes>"
      ]
     },
     "metadata": {},
     "output_type": "display_data"
    }
   ],
   "source": [
    "x,y = get_count(hotel['hotel'])\n",
    "plot(x,y, x_label='Hotels', y_label='Total Booking (%)', title='Hotel comparison')"
   ]
  },
  {
   "cell_type": "markdown",
   "metadata": {},
   "source": [
    "From the above plot illustration, more than 60% of the population booked City hotel."
   ]
  },
  {
   "cell_type": "markdown",
   "metadata": {},
   "source": [
    "## Q7. Which was the most booked accommodation type?(single, couple, family)"
   ]
  },
  {
   "cell_type": "markdown",
   "metadata": {},
   "source": [
    "To do this, we will divide people staying in the hotel into 3 categories.\n",
    "\n",
    "Single: 1 Adult only\n",
    "\n",
    "Couple: 2 Adults. we can’t say for sure that these two people are an actual couple or not, data does not tell us anything about this, but we will assume they are couple.\n",
    "\n",
    "Family or Friends: More than 2 people including adults, children, and babies. (or alternatively, we can call it a group)."
   ]
  },
  {
   "cell_type": "code",
   "execution_count": 27,
   "metadata": {},
   "outputs": [
    {
     "data": {
      "image/png": "[encoded data removed]",
      "text/plain": [
       "<Figure size 720x360 with 1 Axes>"
      ]
     },
     "metadata": {},
     "output_type": "display_data"
    }
   ],
   "source": [
    "# Select single, couple, multiple adults and family\n",
    "single   = hotel[(hotel.adults==1) & (hotel.children==0) & (hotel.babies==0)]\n",
    "couple   = hotel[(hotel.adults==2) & (hotel.children==0) & (hotel.babies==0)]\n",
    "#n_adults = hotel[(hotel.adults>2) & (hotel.children==0) & (hotel.babies==0)]\n",
    "family   = hotel[hotel.adults + hotel.children + hotel.babies > 2]\n",
    "\n",
    "\n",
    "# Make the list of Category names, and their total percentage\n",
    "names = ['Single', 'Couple (No Children)', 'Family / Friends']\n",
    "count = [single.shape[0],couple.shape[0], family.shape[0]]\n",
    "count_percent = [x/hotel.shape[0]*100 for x in count]\n",
    "\n",
    "\n",
    "# Draw the curve\n",
    "plot(names,count_percent,  y_label='Booking (%)', title='Accommodation Type', figsize=(10,5))"
   ]
  },
  {
   "cell_type": "markdown",
   "metadata": {},
   "source": [
    "From the above plot, we observe that couple (or 2 adults) is the most popular accommodation type. So hotels can make plans accordingly."
   ]
  },
  {
   "cell_type": "markdown",
   "metadata": {},
   "source": [
    "##                             Preprocessing"
   ]
  },
  {
   "cell_type": "markdown",
   "metadata": {},
   "source": [
    "(Missing Values, Feature Engineering / Feature Selection)"
   ]
  },
  {
   "cell_type": "code",
   "execution_count": 28,
   "metadata": {},
   "outputs": [],
   "source": [
    "hotel_subset = hotel.copy()"
   ]
  },
  {
   "cell_type": "code",
   "execution_count": 29,
   "metadata": {},
   "outputs": [
    {
     "name": "stdout",
     "output_type": "stream",
     "text": [
      "# of NaN in each columns:\n",
      "hotel                                  0\n",
      "is_canceled                            0\n",
      "lead_time                              0\n",
      "arrival_date_year                      0\n",
      "arrival_date_month                     0\n",
      "arrival_date_week_number               0\n",
      "arrival_date_day_of_month              0\n",
      "stays_in_weekend_nights                0\n",
      "stays_in_week_nights                   0\n",
      "adults                                 0\n",
      "children                               4\n",
      "babies                                 0\n",
      "meal                                   0\n",
      "country                              488\n",
      "market_segment                         0\n",
      "distribution_channel                   0\n",
      "is_repeated_guest                      0\n",
      "previous_cancellations                 0\n",
      "previous_bookings_not_canceled         0\n",
      "reserved_room_type                     0\n",
      "assigned_room_type                     0\n",
      "booking_changes                        0\n",
      "deposit_type                           0\n",
      "agent                              16340\n",
      "company                           112593\n",
      "days_in_waiting_list                   0\n",
      "customer_type                          0\n",
      "adr                                    0\n",
      "required_car_parking_spaces            0\n",
      "total_of_special_requests              0\n",
      "reservation_status                     0\n",
      "reservation_status_date                0\n",
      "total_nights                           0\n",
      "dtype: int64\n"
     ]
    }
   ],
   "source": [
    "print(\"# of NaN in each columns:\", hotel.isnull().sum(), sep='\\n')"
   ]
  },
  {
   "cell_type": "code",
   "execution_count": 30,
   "metadata": {},
   "outputs": [
    {
     "name": "stdout",
     "output_type": "stream",
     "text": [
      "Missing value ratios:\n",
      "Company: 94.30689337465449\n",
      "Agent: 13.686238378423655\n",
      "Country: 0.40874445095904177\n"
     ]
    }
   ],
   "source": [
    "def perc_mv(x, y):\n",
    "    perc = y.isnull().sum() / len(x) * 100\n",
    "    return perc\n",
    "\n",
    "print('Missing value ratios:\\nCompany: {}\\nAgent: {}\\nCountry: {}'.format(perc_mv(hotel, hotel['company']),\n",
    "                                                                                   perc_mv(hotel, hotel['agent']),\n",
    "                                                                                   perc_mv(hotel, hotel['country'])))"
   ]
  },
  {
   "cell_type": "code",
   "execution_count": 31,
   "metadata": {},
   "outputs": [
    {
     "data": {
      "text/plain": [
       "333"
      ]
     },
     "execution_count": 31,
     "metadata": {},
     "output_type": "execute_result"
    }
   ],
   "source": [
    "hotel[\"agent\"].value_counts().count()"
   ]
  },
  {
   "cell_type": "markdown",
   "metadata": {},
   "source": [
    "As can be seen above, 94.3% of Company column are missing values. Therefore we do not have enough values to fill the rows of company column by predicting, filling by mean etc. It seems that the best option is dropping company column.\n",
    "\n",
    "Furthermore, 13.68% of agent column are missing values, there is no need to drop agent column. But also we should not drop the rows because 13.68% of data is really huge amount and those rows have the chance to have crucial information. There are 333 unique agent, since there are too many agents they may not be predictable. Also NA values can be the agents that are not listed in present 333 agents. We can't predict agents and since missing values are 13% of all data we can't drop them too. I will decide what to do about agent after correlation section.\n",
    "\n",
    "It will not be a problem if we drop the rows that have missing values in country column. Still, I will wait for correlation."
   ]
  },
  {
   "cell_type": "code",
   "execution_count": 32,
   "metadata": {},
   "outputs": [],
   "source": [
    "# company is dropped\n",
    "hotel = hotel.drop(['company'], axis = 1)"
   ]
  },
  {
   "cell_type": "code",
   "execution_count": 33,
   "metadata": {},
   "outputs": [],
   "source": [
    "# We have also 4 missing values in children column. If there is no information about children, In my opinion those customers do not have any children.\n",
    "hotel['children'] = hotel['children'].fillna(0)"
   ]
  },
  {
   "cell_type": "markdown",
   "metadata": {},
   "source": [
    "## Handling Features"
   ]
  },
  {
   "cell_type": "markdown",
   "metadata": {},
   "source": [
    "We would check the features to create some more meaningful variables and reduce the number of features if it is possible."
   ]
  },
  {
   "cell_type": "code",
   "execution_count": 34,
   "metadata": {},
   "outputs": [
    {
     "data": {
      "text/plain": [
       "hotel                              object\n",
       "is_canceled                         int64\n",
       "lead_time                           int64\n",
       "arrival_date_year                   int64\n",
       "arrival_date_month                 object\n",
       "arrival_date_week_number            int64\n",
       "arrival_date_day_of_month           int64\n",
       "stays_in_weekend_nights             int64\n",
       "stays_in_week_nights                int64\n",
       "adults                              int64\n",
       "children                          float64\n",
       "babies                              int64\n",
       "meal                               object\n",
       "country                            object\n",
       "market_segment                     object\n",
       "distribution_channel               object\n",
       "is_repeated_guest                   int64\n",
       "previous_cancellations              int64\n",
       "previous_bookings_not_canceled      int64\n",
       "reserved_room_type                 object\n",
       "assigned_room_type                 object\n",
       "booking_changes                     int64\n",
       "deposit_type                       object\n",
       "agent                             float64\n",
       "days_in_waiting_list                int64\n",
       "customer_type                      object\n",
       "adr                               float64\n",
       "required_car_parking_spaces         int64\n",
       "total_of_special_requests           int64\n",
       "reservation_status                 object\n",
       "reservation_status_date            object\n",
       "total_nights                        int64\n",
       "dtype: object"
      ]
     },
     "execution_count": 34,
     "metadata": {},
     "output_type": "execute_result"
    }
   ],
   "source": [
    "hotel.dtypes"
   ]
  },
  {
   "cell_type": "code",
   "execution_count": 35,
   "metadata": {},
   "outputs": [],
   "source": [
    "# I will try to label them manually, and do the rest using get.dummies or label_encoder.\n",
    "hotel['hotel'] = hotel['hotel'].map({'Resort Hotel':0, 'City Hotel':1})\n",
    "\n",
    "hotel['arrival_date_month'] = hotel['arrival_date_month'].map({'January':1, 'February': 2, 'March':3, 'April':4, 'May':5, 'June':6, 'July':7,\n",
    "                                                            'August':8, 'September':9, 'October':10, 'November':11, 'December':12})"
   ]
  },
  {
   "cell_type": "code",
   "execution_count": 36,
   "metadata": {},
   "outputs": [],
   "source": [
    "def family(hotel):\n",
    "    if ((hotel['adults'] > 0) & (hotel['children'] > 0)):\n",
    "        val = 1\n",
    "    elif ((hotel['adults'] > 0) & (hotel['babies'] > 0)):\n",
    "        val = 1\n",
    "    else:\n",
    "        val = 0\n",
    "    return val\n",
    "\n",
    "def deposit(hotel):\n",
    "    if ((hotel['deposit_type'] == 'No Deposit') | (hotel['deposit_type'] == 'Refundable')):\n",
    "        return 0\n",
    "    else:\n",
    "        return 1"
   ]
  },
  {
   "cell_type": "code",
   "execution_count": 37,
   "metadata": {},
   "outputs": [],
   "source": [
    "def feature(hotel):\n",
    "    hotel[\"is_family\"] = hotel.apply(family, axis = 1)\n",
    "    hotel[\"total_customer\"] = hotel[\"adults\"] + hotel[\"children\"] + hotel[\"babies\"]\n",
    "    hotel[\"deposit_given\"] = hotel.apply(deposit, axis=1)\n",
    "    hotel[\"total_nights\"] = hotel[\"stays_in_weekend_nights\"]+ hotel[\"stays_in_week_nights\"]\n",
    "    return hotel\n",
    "\n",
    "hotel = feature(hotel)"
   ]
  },
  {
   "cell_type": "code",
   "execution_count": 38,
   "metadata": {},
   "outputs": [],
   "source": [
    "# Information of these columns is also inside of new features, so it is better to drop them.\n",
    "# I did not drop stays_nights features, I can't decide which feature is more important there.\n",
    "hotel = hotel.drop(columns = ['adults', 'babies', 'children', 'deposit_type', 'reservation_status_date'])"
   ]
  },
  {
   "cell_type": "markdown",
   "metadata": {},
   "source": [
    "After the correlation, I will decide what to do about country, agent and total_nights."
   ]
  },
  {
   "cell_type": "markdown",
   "metadata": {},
   "source": [
    "## CORRELATION"
   ]
  },
  {
   "cell_type": "code",
   "execution_count": 39,
   "metadata": {},
   "outputs": [
    {
     "data": {
      "text/plain": [
       "Index(['hotel', 'is_canceled', 'lead_time', 'arrival_date_year',\n",
       "       'arrival_date_month', 'arrival_date_week_number',\n",
       "       'arrival_date_day_of_month', 'stays_in_weekend_nights',\n",
       "       'stays_in_week_nights', 'meal', 'country', 'market_segment',\n",
       "       'distribution_channel', 'is_repeated_guest', 'previous_cancellations',\n",
       "       'previous_bookings_not_canceled', 'reserved_room_type',\n",
       "       'assigned_room_type', 'booking_changes', 'agent',\n",
       "       'days_in_waiting_list', 'customer_type', 'adr',\n",
       "       'required_car_parking_spaces', 'total_of_special_requests',\n",
       "       'reservation_status', 'total_nights', 'is_family', 'total_customer',\n",
       "       'deposit_given'],\n",
       "      dtype='object')"
      ]
     },
     "execution_count": 39,
     "metadata": {},
     "output_type": "execute_result"
    }
   ],
   "source": [
    "hotel.columns"
   ]
  },
  {
   "cell_type": "code",
   "execution_count": 40,
   "metadata": {},
   "outputs": [],
   "source": [
    "# Lets copy data to check the correlation between variables. \n",
    "cor_hotel = hotel.copy()"
   ]
  },
  {
   "cell_type": "code",
   "execution_count": 41,
   "metadata": {},
   "outputs": [],
   "source": [
    "le = LabelEncoder()"
   ]
  },
  {
   "cell_type": "code",
   "execution_count": 42,
   "metadata": {},
   "outputs": [],
   "source": [
    "# This data will not be used while predicting cancellation. This is just for checking correlation.\n",
    "cor_hotel['meal'] = le.fit_transform(cor_hotel['meal'])\n",
    "cor_hotel['distribution_channel'] = le.fit_transform(cor_hotel['distribution_channel'])\n",
    "cor_hotel['reserved_room_type'] = le.fit_transform(cor_hotel['reserved_room_type'])\n",
    "cor_hotel['assigned_room_type'] = le.fit_transform(cor_hotel['assigned_room_type'])\n",
    "cor_hotel['agent'] = le.fit_transform(cor_hotel['agent'])\n",
    "cor_hotel['customer_type'] = le.fit_transform(cor_hotel['customer_type'])\n",
    "cor_hotel['reservation_status'] = le.fit_transform(cor_hotel['reservation_status'])\n",
    "cor_hotel['market_segment'] = le.fit_transform(cor_hotel['market_segment'])"
   ]
  },
  {
   "cell_type": "code",
   "execution_count": 43,
   "metadata": {},
   "outputs": [
    {
     "data": {
      "text/html": [
       "<div>\n",
       "<style scoped>\n",
       "    .dataframe tbody tr th:only-of-type {\n",
       "        vertical-align: middle;\n",
       "    }\n",
       "\n",
       "    .dataframe tbody tr th {\n",
       "        vertical-align: top;\n",
       "    }\n",
       "\n",
       "    .dataframe thead th {\n",
       "        text-align: right;\n",
       "    }\n",
       "</style>\n",
       "<table border=\"1\" class=\"dataframe\">\n",
       "  <thead>\n",
       "    <tr style=\"text-align: right;\">\n",
       "      <th></th>\n",
       "      <th>hotel</th>\n",
       "      <th>is_canceled</th>\n",
       "      <th>lead_time</th>\n",
       "      <th>arrival_date_year</th>\n",
       "      <th>arrival_date_month</th>\n",
       "      <th>arrival_date_week_number</th>\n",
       "      <th>arrival_date_day_of_month</th>\n",
       "      <th>stays_in_weekend_nights</th>\n",
       "      <th>stays_in_week_nights</th>\n",
       "      <th>meal</th>\n",
       "      <th>...</th>\n",
       "      <th>days_in_waiting_list</th>\n",
       "      <th>customer_type</th>\n",
       "      <th>adr</th>\n",
       "      <th>required_car_parking_spaces</th>\n",
       "      <th>total_of_special_requests</th>\n",
       "      <th>reservation_status</th>\n",
       "      <th>total_nights</th>\n",
       "      <th>is_family</th>\n",
       "      <th>total_customer</th>\n",
       "      <th>deposit_given</th>\n",
       "    </tr>\n",
       "  </thead>\n",
       "  <tbody>\n",
       "    <tr>\n",
       "      <th>hotel</th>\n",
       "      <td>1.000000</td>\n",
       "      <td>0.136531</td>\n",
       "      <td>0.075381</td>\n",
       "      <td>0.035267</td>\n",
       "      <td>0.001817</td>\n",
       "      <td>0.001270</td>\n",
       "      <td>-0.001862</td>\n",
       "      <td>-0.186596</td>\n",
       "      <td>-0.234020</td>\n",
       "      <td>0.008018</td>\n",
       "      <td>...</td>\n",
       "      <td>0.072432</td>\n",
       "      <td>0.047531</td>\n",
       "      <td>0.096719</td>\n",
       "      <td>-0.218873</td>\n",
       "      <td>-0.043390</td>\n",
       "      <td>-0.124331</td>\n",
       "      <td>-0.247479</td>\n",
       "      <td>-0.058306</td>\n",
       "      <td>-0.040821</td>\n",
       "      <td>0.172003</td>\n",
       "    </tr>\n",
       "    <tr>\n",
       "      <th>is_canceled</th>\n",
       "      <td>0.136531</td>\n",
       "      <td>1.000000</td>\n",
       "      <td>0.293123</td>\n",
       "      <td>0.016660</td>\n",
       "      <td>0.011022</td>\n",
       "      <td>0.008148</td>\n",
       "      <td>-0.006130</td>\n",
       "      <td>-0.001791</td>\n",
       "      <td>0.024765</td>\n",
       "      <td>-0.017678</td>\n",
       "      <td>...</td>\n",
       "      <td>0.054186</td>\n",
       "      <td>-0.068140</td>\n",
       "      <td>0.047557</td>\n",
       "      <td>-0.195498</td>\n",
       "      <td>-0.234658</td>\n",
       "      <td>-0.917196</td>\n",
       "      <td>0.017779</td>\n",
       "      <td>-0.013010</td>\n",
       "      <td>0.046522</td>\n",
       "      <td>0.481457</td>\n",
       "    </tr>\n",
       "    <tr>\n",
       "      <th>lead_time</th>\n",
       "      <td>0.075381</td>\n",
       "      <td>0.293123</td>\n",
       "      <td>1.000000</td>\n",
       "      <td>0.040142</td>\n",
       "      <td>0.131424</td>\n",
       "      <td>0.126871</td>\n",
       "      <td>0.002268</td>\n",
       "      <td>0.085671</td>\n",
       "      <td>0.165799</td>\n",
       "      <td>0.000349</td>\n",
       "      <td>...</td>\n",
       "      <td>0.170084</td>\n",
       "      <td>0.073403</td>\n",
       "      <td>-0.063077</td>\n",
       "      <td>-0.116451</td>\n",
       "      <td>-0.095712</td>\n",
       "      <td>-0.302175</td>\n",
       "      <td>0.157167</td>\n",
       "      <td>-0.043972</td>\n",
       "      <td>0.072265</td>\n",
       "      <td>0.380179</td>\n",
       "    </tr>\n",
       "    <tr>\n",
       "      <th>arrival_date_year</th>\n",
       "      <td>0.035267</td>\n",
       "      <td>0.016660</td>\n",
       "      <td>0.040142</td>\n",
       "      <td>1.000000</td>\n",
       "      <td>-0.527739</td>\n",
       "      <td>-0.540561</td>\n",
       "      <td>-0.000221</td>\n",
       "      <td>0.021497</td>\n",
       "      <td>0.030883</td>\n",
       "      <td>0.065840</td>\n",
       "      <td>...</td>\n",
       "      <td>-0.056497</td>\n",
       "      <td>-0.006149</td>\n",
       "      <td>0.197580</td>\n",
       "      <td>-0.013684</td>\n",
       "      <td>0.108531</td>\n",
       "      <td>-0.017683</td>\n",
       "      <td>0.031438</td>\n",
       "      <td>0.052711</td>\n",
       "      <td>0.052127</td>\n",
       "      <td>-0.065963</td>\n",
       "    </tr>\n",
       "    <tr>\n",
       "      <th>arrival_date_month</th>\n",
       "      <td>0.001817</td>\n",
       "      <td>0.011022</td>\n",
       "      <td>0.131424</td>\n",
       "      <td>-0.527739</td>\n",
       "      <td>1.000000</td>\n",
       "      <td>0.995105</td>\n",
       "      <td>-0.026063</td>\n",
       "      <td>0.018440</td>\n",
       "      <td>0.019212</td>\n",
       "      <td>-0.015205</td>\n",
       "      <td>...</td>\n",
       "      <td>0.019045</td>\n",
       "      <td>-0.029753</td>\n",
       "      <td>0.079315</td>\n",
       "      <td>0.000257</td>\n",
       "      <td>0.028026</td>\n",
       "      <td>-0.021090</td>\n",
       "      <td>0.021536</td>\n",
       "      <td>0.010427</td>\n",
       "      <td>0.027252</td>\n",
       "      <td>0.008746</td>\n",
       "    </tr>\n",
       "    <tr>\n",
       "      <th>arrival_date_week_number</th>\n",
       "      <td>0.001270</td>\n",
       "      <td>0.008148</td>\n",
       "      <td>0.126871</td>\n",
       "      <td>-0.540561</td>\n",
       "      <td>0.995105</td>\n",
       "      <td>1.000000</td>\n",
       "      <td>0.066809</td>\n",
       "      <td>0.018208</td>\n",
       "      <td>0.015558</td>\n",
       "      <td>-0.017381</td>\n",
       "      <td>...</td>\n",
       "      <td>0.022933</td>\n",
       "      <td>-0.028432</td>\n",
       "      <td>0.075791</td>\n",
       "      <td>0.001920</td>\n",
       "      <td>0.026149</td>\n",
       "      <td>-0.017387</td>\n",
       "      <td>0.018719</td>\n",
       "      <td>0.010611</td>\n",
       "      <td>0.025220</td>\n",
       "      <td>0.007773</td>\n",
       "    </tr>\n",
       "    <tr>\n",
       "      <th>arrival_date_day_of_month</th>\n",
       "      <td>-0.001862</td>\n",
       "      <td>-0.006130</td>\n",
       "      <td>0.002268</td>\n",
       "      <td>-0.000221</td>\n",
       "      <td>-0.026063</td>\n",
       "      <td>0.066809</td>\n",
       "      <td>1.000000</td>\n",
       "      <td>-0.016354</td>\n",
       "      <td>-0.028174</td>\n",
       "      <td>-0.007086</td>\n",
       "      <td>...</td>\n",
       "      <td>0.022728</td>\n",
       "      <td>0.012188</td>\n",
       "      <td>0.030245</td>\n",
       "      <td>0.008683</td>\n",
       "      <td>0.003062</td>\n",
       "      <td>0.011460</td>\n",
       "      <td>-0.027408</td>\n",
       "      <td>0.014710</td>\n",
       "      <td>0.006742</td>\n",
       "      <td>-0.008616</td>\n",
       "    </tr>\n",
       "    <tr>\n",
       "      <th>stays_in_weekend_nights</th>\n",
       "      <td>-0.186596</td>\n",
       "      <td>-0.001791</td>\n",
       "      <td>0.085671</td>\n",
       "      <td>0.021497</td>\n",
       "      <td>0.018440</td>\n",
       "      <td>0.018208</td>\n",
       "      <td>-0.016354</td>\n",
       "      <td>1.000000</td>\n",
       "      <td>0.498969</td>\n",
       "      <td>0.045744</td>\n",
       "      <td>...</td>\n",
       "      <td>-0.054151</td>\n",
       "      <td>-0.109220</td>\n",
       "      <td>0.049342</td>\n",
       "      <td>-0.018554</td>\n",
       "      <td>0.072671</td>\n",
       "      <td>0.008558</td>\n",
       "      <td>0.762790</td>\n",
       "      <td>0.052306</td>\n",
       "      <td>0.101426</td>\n",
       "      <td>-0.114275</td>\n",
       "    </tr>\n",
       "    <tr>\n",
       "      <th>stays_in_week_nights</th>\n",
       "      <td>-0.234020</td>\n",
       "      <td>0.024765</td>\n",
       "      <td>0.165799</td>\n",
       "      <td>0.030883</td>\n",
       "      <td>0.019212</td>\n",
       "      <td>0.015558</td>\n",
       "      <td>-0.028174</td>\n",
       "      <td>0.498969</td>\n",
       "      <td>1.000000</td>\n",
       "      <td>0.036742</td>\n",
       "      <td>...</td>\n",
       "      <td>-0.002020</td>\n",
       "      <td>-0.127223</td>\n",
       "      <td>0.065237</td>\n",
       "      <td>-0.024859</td>\n",
       "      <td>0.068192</td>\n",
       "      <td>-0.021607</td>\n",
       "      <td>0.941005</td>\n",
       "      <td>0.050424</td>\n",
       "      <td>0.101665</td>\n",
       "      <td>-0.079999</td>\n",
       "    </tr>\n",
       "    <tr>\n",
       "      <th>meal</th>\n",
       "      <td>0.008018</td>\n",
       "      <td>-0.017678</td>\n",
       "      <td>0.000349</td>\n",
       "      <td>0.065840</td>\n",
       "      <td>-0.015205</td>\n",
       "      <td>-0.017381</td>\n",
       "      <td>-0.007086</td>\n",
       "      <td>0.045744</td>\n",
       "      <td>0.036742</td>\n",
       "      <td>1.000000</td>\n",
       "      <td>...</td>\n",
       "      <td>-0.007132</td>\n",
       "      <td>0.044658</td>\n",
       "      <td>0.059098</td>\n",
       "      <td>-0.038923</td>\n",
       "      <td>0.023136</td>\n",
       "      <td>0.015393</td>\n",
       "      <td>0.045277</td>\n",
       "      <td>-0.041727</td>\n",
       "      <td>-0.005975</td>\n",
       "      <td>-0.090725</td>\n",
       "    </tr>\n",
       "    <tr>\n",
       "      <th>market_segment</th>\n",
       "      <td>0.083795</td>\n",
       "      <td>0.059338</td>\n",
       "      <td>0.013797</td>\n",
       "      <td>0.107697</td>\n",
       "      <td>0.001293</td>\n",
       "      <td>-0.000510</td>\n",
       "      <td>-0.004088</td>\n",
       "      <td>0.115350</td>\n",
       "      <td>0.108569</td>\n",
       "      <td>0.145132</td>\n",
       "      <td>...</td>\n",
       "      <td>-0.041503</td>\n",
       "      <td>-0.165814</td>\n",
       "      <td>0.232763</td>\n",
       "      <td>-0.062226</td>\n",
       "      <td>0.274373</td>\n",
       "      <td>-0.061584</td>\n",
       "      <td>0.126052</td>\n",
       "      <td>0.080450</td>\n",
       "      <td>0.213221</td>\n",
       "      <td>-0.183880</td>\n",
       "    </tr>\n",
       "    <tr>\n",
       "      <th>distribution_channel</th>\n",
       "      <td>0.174419</td>\n",
       "      <td>0.167600</td>\n",
       "      <td>0.220414</td>\n",
       "      <td>0.022644</td>\n",
       "      <td>0.007381</td>\n",
       "      <td>0.005699</td>\n",
       "      <td>0.001578</td>\n",
       "      <td>0.093097</td>\n",
       "      <td>0.087185</td>\n",
       "      <td>0.116957</td>\n",
       "      <td>...</td>\n",
       "      <td>0.048642</td>\n",
       "      <td>-0.069640</td>\n",
       "      <td>0.092396</td>\n",
       "      <td>-0.132280</td>\n",
       "      <td>0.098815</td>\n",
       "      <td>-0.171330</td>\n",
       "      <td>0.101407</td>\n",
       "      <td>0.000464</td>\n",
       "      <td>0.144357</td>\n",
       "      <td>0.102548</td>\n",
       "    </tr>\n",
       "    <tr>\n",
       "      <th>is_repeated_guest</th>\n",
       "      <td>-0.050421</td>\n",
       "      <td>-0.084793</td>\n",
       "      <td>-0.124410</td>\n",
       "      <td>0.010341</td>\n",
       "      <td>-0.030729</td>\n",
       "      <td>-0.030131</td>\n",
       "      <td>-0.006145</td>\n",
       "      <td>-0.087239</td>\n",
       "      <td>-0.097245</td>\n",
       "      <td>-0.057009</td>\n",
       "      <td>...</td>\n",
       "      <td>-0.022235</td>\n",
       "      <td>-0.017111</td>\n",
       "      <td>-0.134314</td>\n",
       "      <td>0.077090</td>\n",
       "      <td>0.013050</td>\n",
       "      <td>0.083504</td>\n",
       "      <td>-0.106626</td>\n",
       "      <td>-0.035127</td>\n",
       "      <td>-0.136748</td>\n",
       "      <td>-0.058423</td>\n",
       "    </tr>\n",
       "    <tr>\n",
       "      <th>previous_cancellations</th>\n",
       "      <td>-0.012292</td>\n",
       "      <td>0.110133</td>\n",
       "      <td>0.086042</td>\n",
       "      <td>-0.119822</td>\n",
       "      <td>0.037479</td>\n",
       "      <td>0.035501</td>\n",
       "      <td>-0.027011</td>\n",
       "      <td>-0.012775</td>\n",
       "      <td>-0.013992</td>\n",
       "      <td>-0.003772</td>\n",
       "      <td>...</td>\n",
       "      <td>0.005929</td>\n",
       "      <td>-0.008188</td>\n",
       "      <td>-0.065646</td>\n",
       "      <td>-0.018492</td>\n",
       "      <td>-0.048384</td>\n",
       "      <td>-0.110758</td>\n",
       "      <td>-0.015429</td>\n",
       "      <td>-0.027262</td>\n",
       "      <td>-0.020058</td>\n",
       "      <td>0.143314</td>\n",
       "    </tr>\n",
       "    <tr>\n",
       "      <th>previous_bookings_not_canceled</th>\n",
       "      <td>-0.004441</td>\n",
       "      <td>-0.057358</td>\n",
       "      <td>-0.073548</td>\n",
       "      <td>0.029218</td>\n",
       "      <td>-0.021640</td>\n",
       "      <td>-0.020904</td>\n",
       "      <td>-0.000300</td>\n",
       "      <td>-0.042715</td>\n",
       "      <td>-0.048743</td>\n",
       "      <td>-0.040417</td>\n",
       "      <td>...</td>\n",
       "      <td>-0.009397</td>\n",
       "      <td>-0.012259</td>\n",
       "      <td>-0.072144</td>\n",
       "      <td>0.047653</td>\n",
       "      <td>0.037824</td>\n",
       "      <td>0.055051</td>\n",
       "      <td>-0.053049</td>\n",
       "      <td>-0.022815</td>\n",
       "      <td>-0.099097</td>\n",
       "      <td>-0.031509</td>\n",
       "    </tr>\n",
       "    <tr>\n",
       "      <th>reserved_room_type</th>\n",
       "      <td>-0.249677</td>\n",
       "      <td>-0.061282</td>\n",
       "      <td>-0.106089</td>\n",
       "      <td>0.092809</td>\n",
       "      <td>-0.007923</td>\n",
       "      <td>-0.007997</td>\n",
       "      <td>0.016929</td>\n",
       "      <td>0.142083</td>\n",
       "      <td>0.168616</td>\n",
       "      <td>-0.120749</td>\n",
       "      <td>...</td>\n",
       "      <td>-0.068821</td>\n",
       "      <td>-0.120978</td>\n",
       "      <td>0.392060</td>\n",
       "      <td>0.131583</td>\n",
       "      <td>0.137466</td>\n",
       "      <td>0.058693</td>\n",
       "      <td>0.181296</td>\n",
       "      <td>0.323910</td>\n",
       "      <td>0.383357</td>\n",
       "      <td>-0.201348</td>\n",
       "    </tr>\n",
       "    <tr>\n",
       "      <th>assigned_room_type</th>\n",
       "      <td>-0.307834</td>\n",
       "      <td>-0.176028</td>\n",
       "      <td>-0.172219</td>\n",
       "      <td>0.036141</td>\n",
       "      <td>-0.006378</td>\n",
       "      <td>-0.005684</td>\n",
       "      <td>0.011646</td>\n",
       "      <td>0.086643</td>\n",
       "      <td>0.100795</td>\n",
       "      <td>-0.120792</td>\n",
       "      <td>...</td>\n",
       "      <td>-0.068676</td>\n",
       "      <td>-0.084427</td>\n",
       "      <td>0.258134</td>\n",
       "      <td>0.160131</td>\n",
       "      <td>0.124683</td>\n",
       "      <td>0.172537</td>\n",
       "      <td>0.109042</td>\n",
       "      <td>0.292940</td>\n",
       "      <td>0.302422</td>\n",
       "      <td>-0.246602</td>\n",
       "    </tr>\n",
       "    <tr>\n",
       "      <th>booking_changes</th>\n",
       "      <td>-0.072820</td>\n",
       "      <td>-0.144381</td>\n",
       "      <td>0.000149</td>\n",
       "      <td>0.030872</td>\n",
       "      <td>0.004809</td>\n",
       "      <td>0.005508</td>\n",
       "      <td>0.010613</td>\n",
       "      <td>0.063281</td>\n",
       "      <td>0.096209</td>\n",
       "      <td>0.024650</td>\n",
       "      <td>...</td>\n",
       "      <td>-0.011634</td>\n",
       "      <td>0.092029</td>\n",
       "      <td>0.019618</td>\n",
       "      <td>0.065620</td>\n",
       "      <td>0.052833</td>\n",
       "      <td>0.140799</td>\n",
       "      <td>0.096498</td>\n",
       "      <td>0.079121</td>\n",
       "      <td>-0.003173</td>\n",
       "      <td>-0.119333</td>\n",
       "    </tr>\n",
       "    <tr>\n",
       "      <th>agent</th>\n",
       "      <td>-0.158500</td>\n",
       "      <td>-0.127883</td>\n",
       "      <td>-0.171430</td>\n",
       "      <td>-0.017723</td>\n",
       "      <td>-0.000799</td>\n",
       "      <td>0.001638</td>\n",
       "      <td>-0.002271</td>\n",
       "      <td>-0.110284</td>\n",
       "      <td>-0.110354</td>\n",
       "      <td>-0.095428</td>\n",
       "      <td>...</td>\n",
       "      <td>-0.039667</td>\n",
       "      <td>0.066095</td>\n",
       "      <td>-0.126407</td>\n",
       "      <td>0.113648</td>\n",
       "      <td>-0.085429</td>\n",
       "      <td>0.123264</td>\n",
       "      <td>-0.125406</td>\n",
       "      <td>-0.032656</td>\n",
       "      <td>-0.155423</td>\n",
       "      <td>-0.013898</td>\n",
       "    </tr>\n",
       "    <tr>\n",
       "      <th>days_in_waiting_list</th>\n",
       "      <td>0.072432</td>\n",
       "      <td>0.054186</td>\n",
       "      <td>0.170084</td>\n",
       "      <td>-0.056497</td>\n",
       "      <td>0.019045</td>\n",
       "      <td>0.022933</td>\n",
       "      <td>0.022728</td>\n",
       "      <td>-0.054151</td>\n",
       "      <td>-0.002020</td>\n",
       "      <td>-0.007132</td>\n",
       "      <td>...</td>\n",
       "      <td>1.000000</td>\n",
       "      <td>0.099121</td>\n",
       "      <td>-0.040756</td>\n",
       "      <td>-0.030600</td>\n",
       "      <td>-0.082730</td>\n",
       "      <td>-0.057927</td>\n",
       "      <td>-0.022652</td>\n",
       "      <td>-0.036312</td>\n",
       "      <td>-0.026431</td>\n",
       "      <td>0.120249</td>\n",
       "    </tr>\n",
       "    <tr>\n",
       "      <th>customer_type</th>\n",
       "      <td>0.047531</td>\n",
       "      <td>-0.068140</td>\n",
       "      <td>0.073403</td>\n",
       "      <td>-0.006149</td>\n",
       "      <td>-0.029753</td>\n",
       "      <td>-0.028432</td>\n",
       "      <td>0.012188</td>\n",
       "      <td>-0.109220</td>\n",
       "      <td>-0.127223</td>\n",
       "      <td>0.044658</td>\n",
       "      <td>...</td>\n",
       "      <td>0.099121</td>\n",
       "      <td>1.000000</td>\n",
       "      <td>-0.077155</td>\n",
       "      <td>-0.030060</td>\n",
       "      <td>-0.135624</td>\n",
       "      <td>0.066004</td>\n",
       "      <td>-0.137577</td>\n",
       "      <td>-0.060139</td>\n",
       "      <td>-0.113232</td>\n",
       "      <td>-0.086745</td>\n",
       "    </tr>\n",
       "    <tr>\n",
       "      <th>adr</th>\n",
       "      <td>0.096719</td>\n",
       "      <td>0.047557</td>\n",
       "      <td>-0.063077</td>\n",
       "      <td>0.197580</td>\n",
       "      <td>0.079315</td>\n",
       "      <td>0.075791</td>\n",
       "      <td>0.030245</td>\n",
       "      <td>0.049342</td>\n",
       "      <td>0.065237</td>\n",
       "      <td>0.059098</td>\n",
       "      <td>...</td>\n",
       "      <td>-0.040756</td>\n",
       "      <td>-0.077155</td>\n",
       "      <td>1.000000</td>\n",
       "      <td>0.056628</td>\n",
       "      <td>0.172185</td>\n",
       "      <td>-0.050520</td>\n",
       "      <td>0.067945</td>\n",
       "      <td>0.309360</td>\n",
       "      <td>0.368105</td>\n",
       "      <td>-0.087608</td>\n",
       "    </tr>\n",
       "    <tr>\n",
       "      <th>required_car_parking_spaces</th>\n",
       "      <td>-0.218873</td>\n",
       "      <td>-0.195498</td>\n",
       "      <td>-0.116451</td>\n",
       "      <td>-0.013684</td>\n",
       "      <td>0.000257</td>\n",
       "      <td>0.001920</td>\n",
       "      <td>0.008683</td>\n",
       "      <td>-0.018554</td>\n",
       "      <td>-0.024859</td>\n",
       "      <td>-0.038923</td>\n",
       "      <td>...</td>\n",
       "      <td>-0.030600</td>\n",
       "      <td>-0.030060</td>\n",
       "      <td>0.056628</td>\n",
       "      <td>1.000000</td>\n",
       "      <td>0.082626</td>\n",
       "      <td>0.179310</td>\n",
       "      <td>-0.025794</td>\n",
       "      <td>0.069141</td>\n",
       "      <td>0.047934</td>\n",
       "      <td>-0.094982</td>\n",
       "    </tr>\n",
       "    <tr>\n",
       "      <th>total_of_special_requests</th>\n",
       "      <td>-0.043390</td>\n",
       "      <td>-0.234658</td>\n",
       "      <td>-0.095712</td>\n",
       "      <td>0.108531</td>\n",
       "      <td>0.028026</td>\n",
       "      <td>0.026149</td>\n",
       "      <td>0.003062</td>\n",
       "      <td>0.072671</td>\n",
       "      <td>0.068192</td>\n",
       "      <td>0.023136</td>\n",
       "      <td>...</td>\n",
       "      <td>-0.082730</td>\n",
       "      <td>-0.135624</td>\n",
       "      <td>0.172185</td>\n",
       "      <td>0.082626</td>\n",
       "      <td>1.000000</td>\n",
       "      <td>0.225674</td>\n",
       "      <td>0.079259</td>\n",
       "      <td>0.128205</td>\n",
       "      <td>0.156834</td>\n",
       "      <td>-0.268034</td>\n",
       "    </tr>\n",
       "    <tr>\n",
       "      <th>reservation_status</th>\n",
       "      <td>-0.124331</td>\n",
       "      <td>-0.917196</td>\n",
       "      <td>-0.302175</td>\n",
       "      <td>-0.017683</td>\n",
       "      <td>-0.021090</td>\n",
       "      <td>-0.017387</td>\n",
       "      <td>0.011460</td>\n",
       "      <td>0.008558</td>\n",
       "      <td>-0.021607</td>\n",
       "      <td>0.015393</td>\n",
       "      <td>...</td>\n",
       "      <td>-0.057927</td>\n",
       "      <td>0.066004</td>\n",
       "      <td>-0.050520</td>\n",
       "      <td>0.179310</td>\n",
       "      <td>0.225674</td>\n",
       "      <td>1.000000</td>\n",
       "      <td>-0.012781</td>\n",
       "      <td>0.013117</td>\n",
       "      <td>-0.055273</td>\n",
       "      <td>-0.478747</td>\n",
       "    </tr>\n",
       "    <tr>\n",
       "      <th>total_nights</th>\n",
       "      <td>-0.247479</td>\n",
       "      <td>0.017779</td>\n",
       "      <td>0.157167</td>\n",
       "      <td>0.031438</td>\n",
       "      <td>0.021536</td>\n",
       "      <td>0.018719</td>\n",
       "      <td>-0.027408</td>\n",
       "      <td>0.762790</td>\n",
       "      <td>0.941005</td>\n",
       "      <td>0.045277</td>\n",
       "      <td>...</td>\n",
       "      <td>-0.022652</td>\n",
       "      <td>-0.137577</td>\n",
       "      <td>0.067945</td>\n",
       "      <td>-0.025794</td>\n",
       "      <td>0.079259</td>\n",
       "      <td>-0.012781</td>\n",
       "      <td>1.000000</td>\n",
       "      <td>0.058049</td>\n",
       "      <td>0.115463</td>\n",
       "      <td>-0.104314</td>\n",
       "    </tr>\n",
       "    <tr>\n",
       "      <th>is_family</th>\n",
       "      <td>-0.058306</td>\n",
       "      <td>-0.013010</td>\n",
       "      <td>-0.043972</td>\n",
       "      <td>0.052711</td>\n",
       "      <td>0.010427</td>\n",
       "      <td>0.010611</td>\n",
       "      <td>0.014710</td>\n",
       "      <td>0.052306</td>\n",
       "      <td>0.050424</td>\n",
       "      <td>-0.041727</td>\n",
       "      <td>...</td>\n",
       "      <td>-0.036312</td>\n",
       "      <td>-0.060139</td>\n",
       "      <td>0.309360</td>\n",
       "      <td>0.069141</td>\n",
       "      <td>0.128205</td>\n",
       "      <td>0.013117</td>\n",
       "      <td>0.058049</td>\n",
       "      <td>1.000000</td>\n",
       "      <td>0.579899</td>\n",
       "      <td>-0.106643</td>\n",
       "    </tr>\n",
       "    <tr>\n",
       "      <th>total_customer</th>\n",
       "      <td>-0.040821</td>\n",
       "      <td>0.046522</td>\n",
       "      <td>0.072265</td>\n",
       "      <td>0.052127</td>\n",
       "      <td>0.027252</td>\n",
       "      <td>0.025220</td>\n",
       "      <td>0.006742</td>\n",
       "      <td>0.101426</td>\n",
       "      <td>0.101665</td>\n",
       "      <td>-0.005975</td>\n",
       "      <td>...</td>\n",
       "      <td>-0.026431</td>\n",
       "      <td>-0.113232</td>\n",
       "      <td>0.368105</td>\n",
       "      <td>0.047934</td>\n",
       "      <td>0.156834</td>\n",
       "      <td>-0.055273</td>\n",
       "      <td>0.115463</td>\n",
       "      <td>0.579899</td>\n",
       "      <td>1.000000</td>\n",
       "      <td>-0.080676</td>\n",
       "    </tr>\n",
       "    <tr>\n",
       "      <th>deposit_given</th>\n",
       "      <td>0.172003</td>\n",
       "      <td>0.481457</td>\n",
       "      <td>0.380179</td>\n",
       "      <td>-0.065963</td>\n",
       "      <td>0.008746</td>\n",
       "      <td>0.007773</td>\n",
       "      <td>-0.008616</td>\n",
       "      <td>-0.114275</td>\n",
       "      <td>-0.079999</td>\n",
       "      <td>-0.090725</td>\n",
       "      <td>...</td>\n",
       "      <td>0.120249</td>\n",
       "      <td>-0.086745</td>\n",
       "      <td>-0.087608</td>\n",
       "      <td>-0.094982</td>\n",
       "      <td>-0.268034</td>\n",
       "      <td>-0.478747</td>\n",
       "      <td>-0.104314</td>\n",
       "      <td>-0.106643</td>\n",
       "      <td>-0.080676</td>\n",
       "      <td>1.000000</td>\n",
       "    </tr>\n",
       "  </tbody>\n",
       "</table>\n",
       "<p>29 rows × 29 columns</p>\n",
       "</div>"
      ],
      "text/plain": [
       "                                   hotel  is_canceled  lead_time  \\\n",
       "hotel                           1.000000     0.136531   0.075381   \n",
       "is_canceled                     0.136531     1.000000   0.293123   \n",
       "lead_time                       0.075381     0.293123   1.000000   \n",
       "arrival_date_year               0.035267     0.016660   0.040142   \n",
       "arrival_date_month              0.001817     0.011022   0.131424   \n",
       "arrival_date_week_number        0.001270     0.008148   0.126871   \n",
       "arrival_date_day_of_month      -0.001862    -0.006130   0.002268   \n",
       "stays_in_weekend_nights        -0.186596    -0.001791   0.085671   \n",
       "stays_in_week_nights           -0.234020     0.024765   0.165799   \n",
       "meal                            0.008018    -0.017678   0.000349   \n",
       "market_segment                  0.083795     0.059338   0.013797   \n",
       "distribution_channel            0.174419     0.167600   0.220414   \n",
       "is_repeated_guest              -0.050421    -0.084793  -0.124410   \n",
       "previous_cancellations         -0.012292     0.110133   0.086042   \n",
       "previous_bookings_not_canceled -0.004441    -0.057358  -0.073548   \n",
       "reserved_room_type             -0.249677    -0.061282  -0.106089   \n",
       "assigned_room_type             -0.307834    -0.176028  -0.172219   \n",
       "booking_changes                -0.072820    -0.144381   0.000149   \n",
       "agent                          -0.158500    -0.127883  -0.171430   \n",
       "days_in_waiting_list            0.072432     0.054186   0.170084   \n",
       "customer_type                   0.047531    -0.068140   0.073403   \n",
       "adr                             0.096719     0.047557  -0.063077   \n",
       "required_car_parking_spaces    -0.218873    -0.195498  -0.116451   \n",
       "total_of_special_requests      -0.043390    -0.234658  -0.095712   \n",
       "reservation_status             -0.124331    -0.917196  -0.302175   \n",
       "total_nights                   -0.247479     0.017779   0.157167   \n",
       "is_family                      -0.058306    -0.013010  -0.043972   \n",
       "total_customer                 -0.040821     0.046522   0.072265   \n",
       "deposit_given                   0.172003     0.481457   0.380179   \n",
       "\n",
       "                                arrival_date_year  arrival_date_month  \\\n",
       "hotel                                    0.035267            0.001817   \n",
       "is_canceled                              0.016660            0.011022   \n",
       "lead_time                                0.040142            0.131424   \n",
       "arrival_date_year                        1.000000           -0.527739   \n",
       "arrival_date_month                      -0.527739            1.000000   \n",
       "arrival_date_week_number                -0.540561            0.995105   \n",
       "arrival_date_day_of_month               -0.000221           -0.026063   \n",
       "stays_in_weekend_nights                  0.021497            0.018440   \n",
       "stays_in_week_nights                     0.030883            0.019212   \n",
       "meal                                     0.065840           -0.015205   \n",
       "market_segment                           0.107697            0.001293   \n",
       "distribution_channel                     0.022644            0.007381   \n",
       "is_repeated_guest                        0.010341           -0.030729   \n",
       "previous_cancellations                  -0.119822            0.037479   \n",
       "previous_bookings_not_canceled           0.029218           -0.021640   \n",
       "reserved_room_type                       0.092809           -0.007923   \n",
       "assigned_room_type                       0.036141           -0.006378   \n",
       "booking_changes                          0.030872            0.004809   \n",
       "agent                                   -0.017723           -0.000799   \n",
       "days_in_waiting_list                    -0.056497            0.019045   \n",
       "customer_type                           -0.006149           -0.029753   \n",
       "adr                                      0.197580            0.079315   \n",
       "required_car_parking_spaces             -0.013684            0.000257   \n",
       "total_of_special_requests                0.108531            0.028026   \n",
       "reservation_status                      -0.017683           -0.021090   \n",
       "total_nights                             0.031438            0.021536   \n",
       "is_family                                0.052711            0.010427   \n",
       "total_customer                           0.052127            0.027252   \n",
       "deposit_given                           -0.065963            0.008746   \n",
       "\n",
       "                                arrival_date_week_number  \\\n",
       "hotel                                           0.001270   \n",
       "is_canceled                                     0.008148   \n",
       "lead_time                                       0.126871   \n",
       "arrival_date_year                              -0.540561   \n",
       "arrival_date_month                              0.995105   \n",
       "arrival_date_week_number                        1.000000   \n",
       "arrival_date_day_of_month                       0.066809   \n",
       "stays_in_weekend_nights                         0.018208   \n",
       "stays_in_week_nights                            0.015558   \n",
       "meal                                           -0.017381   \n",
       "market_segment                                 -0.000510   \n",
       "distribution_channel                            0.005699   \n",
       "is_repeated_guest                              -0.030131   \n",
       "previous_cancellations                          0.035501   \n",
       "previous_bookings_not_canceled                 -0.020904   \n",
       "reserved_room_type                             -0.007997   \n",
       "assigned_room_type                             -0.005684   \n",
       "booking_changes                                 0.005508   \n",
       "agent                                           0.001638   \n",
       "days_in_waiting_list                            0.022933   \n",
       "customer_type                                  -0.028432   \n",
       "adr                                             0.075791   \n",
       "required_car_parking_spaces                     0.001920   \n",
       "total_of_special_requests                       0.026149   \n",
       "reservation_status                             -0.017387   \n",
       "total_nights                                    0.018719   \n",
       "is_family                                       0.010611   \n",
       "total_customer                                  0.025220   \n",
       "deposit_given                                   0.007773   \n",
       "\n",
       "                                arrival_date_day_of_month  \\\n",
       "hotel                                           -0.001862   \n",
       "is_canceled                                     -0.006130   \n",
       "lead_time                                        0.002268   \n",
       "arrival_date_year                               -0.000221   \n",
       "arrival_date_month                              -0.026063   \n",
       "arrival_date_week_number                         0.066809   \n",
       "arrival_date_day_of_month                        1.000000   \n",
       "stays_in_weekend_nights                         -0.016354   \n",
       "stays_in_week_nights                            -0.028174   \n",
       "meal                                            -0.007086   \n",
       "market_segment                                  -0.004088   \n",
       "distribution_channel                             0.001578   \n",
       "is_repeated_guest                               -0.006145   \n",
       "previous_cancellations                          -0.027011   \n",
       "previous_bookings_not_canceled                  -0.000300   \n",
       "reserved_room_type                               0.016929   \n",
       "assigned_room_type                               0.011646   \n",
       "booking_changes                                  0.010613   \n",
       "agent                                           -0.002271   \n",
       "days_in_waiting_list                             0.022728   \n",
       "customer_type                                    0.012188   \n",
       "adr                                              0.030245   \n",
       "required_car_parking_spaces                      0.008683   \n",
       "total_of_special_requests                        0.003062   \n",
       "reservation_status                               0.011460   \n",
       "total_nights                                    -0.027408   \n",
       "is_family                                        0.014710   \n",
       "total_customer                                   0.006742   \n",
       "deposit_given                                   -0.008616   \n",
       "\n",
       "                                stays_in_weekend_nights  stays_in_week_nights  \\\n",
       "hotel                                         -0.186596             -0.234020   \n",
       "is_canceled                                   -0.001791              0.024765   \n",
       "lead_time                                      0.085671              0.165799   \n",
       "arrival_date_year                              0.021497              0.030883   \n",
       "arrival_date_month                             0.018440              0.019212   \n",
       "arrival_date_week_number                       0.018208              0.015558   \n",
       "arrival_date_day_of_month                     -0.016354             -0.028174   \n",
       "stays_in_weekend_nights                        1.000000              0.498969   \n",
       "stays_in_week_nights                           0.498969              1.000000   \n",
       "meal                                           0.045744              0.036742   \n",
       "market_segment                                 0.115350              0.108569   \n",
       "distribution_channel                           0.093097              0.087185   \n",
       "is_repeated_guest                             -0.087239             -0.097245   \n",
       "previous_cancellations                        -0.012775             -0.013992   \n",
       "previous_bookings_not_canceled                -0.042715             -0.048743   \n",
       "reserved_room_type                             0.142083              0.168616   \n",
       "assigned_room_type                             0.086643              0.100795   \n",
       "booking_changes                                0.063281              0.096209   \n",
       "agent                                         -0.110284             -0.110354   \n",
       "days_in_waiting_list                          -0.054151             -0.002020   \n",
       "customer_type                                 -0.109220             -0.127223   \n",
       "adr                                            0.049342              0.065237   \n",
       "required_car_parking_spaces                   -0.018554             -0.024859   \n",
       "total_of_special_requests                      0.072671              0.068192   \n",
       "reservation_status                             0.008558             -0.021607   \n",
       "total_nights                                   0.762790              0.941005   \n",
       "is_family                                      0.052306              0.050424   \n",
       "total_customer                                 0.101426              0.101665   \n",
       "deposit_given                                 -0.114275             -0.079999   \n",
       "\n",
       "                                    meal  ...  days_in_waiting_list  \\\n",
       "hotel                           0.008018  ...              0.072432   \n",
       "is_canceled                    -0.017678  ...              0.054186   \n",
       "lead_time                       0.000349  ...              0.170084   \n",
       "arrival_date_year               0.065840  ...             -0.056497   \n",
       "arrival_date_month             -0.015205  ...              0.019045   \n",
       "arrival_date_week_number       -0.017381  ...              0.022933   \n",
       "arrival_date_day_of_month      -0.007086  ...              0.022728   \n",
       "stays_in_weekend_nights         0.045744  ...             -0.054151   \n",
       "stays_in_week_nights            0.036742  ...             -0.002020   \n",
       "meal                            1.000000  ...             -0.007132   \n",
       "market_segment                  0.145132  ...             -0.041503   \n",
       "distribution_channel            0.116957  ...              0.048642   \n",
       "is_repeated_guest              -0.057009  ...             -0.022235   \n",
       "previous_cancellations         -0.003772  ...              0.005929   \n",
       "previous_bookings_not_canceled -0.040417  ...             -0.009397   \n",
       "reserved_room_type             -0.120749  ...             -0.068821   \n",
       "assigned_room_type             -0.120792  ...             -0.068676   \n",
       "booking_changes                 0.024650  ...             -0.011634   \n",
       "agent                          -0.095428  ...             -0.039667   \n",
       "days_in_waiting_list           -0.007132  ...              1.000000   \n",
       "customer_type                   0.044658  ...              0.099121   \n",
       "adr                             0.059098  ...             -0.040756   \n",
       "required_car_parking_spaces    -0.038923  ...             -0.030600   \n",
       "total_of_special_requests       0.023136  ...             -0.082730   \n",
       "reservation_status              0.015393  ...             -0.057927   \n",
       "total_nights                    0.045277  ...             -0.022652   \n",
       "is_family                      -0.041727  ...             -0.036312   \n",
       "total_customer                 -0.005975  ...             -0.026431   \n",
       "deposit_given                  -0.090725  ...              0.120249   \n",
       "\n",
       "                                customer_type       adr  \\\n",
       "hotel                                0.047531  0.096719   \n",
       "is_canceled                         -0.068140  0.047557   \n",
       "lead_time                            0.073403 -0.063077   \n",
       "arrival_date_year                   -0.006149  0.197580   \n",
       "arrival_date_month                  -0.029753  0.079315   \n",
       "arrival_date_week_number            -0.028432  0.075791   \n",
       "arrival_date_day_of_month            0.012188  0.030245   \n",
       "stays_in_weekend_nights             -0.109220  0.049342   \n",
       "stays_in_week_nights                -0.127223  0.065237   \n",
       "meal                                 0.044658  0.059098   \n",
       "market_segment                      -0.165814  0.232763   \n",
       "distribution_channel                -0.069640  0.092396   \n",
       "is_repeated_guest                   -0.017111 -0.134314   \n",
       "previous_cancellations              -0.008188 -0.065646   \n",
       "previous_bookings_not_canceled      -0.012259 -0.072144   \n",
       "reserved_room_type                  -0.120978  0.392060   \n",
       "assigned_room_type                  -0.084427  0.258134   \n",
       "booking_changes                      0.092029  0.019618   \n",
       "agent                                0.066095 -0.126407   \n",
       "days_in_waiting_list                 0.099121 -0.040756   \n",
       "customer_type                        1.000000 -0.077155   \n",
       "adr                                 -0.077155  1.000000   \n",
       "required_car_parking_spaces         -0.030060  0.056628   \n",
       "total_of_special_requests           -0.135624  0.172185   \n",
       "reservation_status                   0.066004 -0.050520   \n",
       "total_nights                        -0.137577  0.067945   \n",
       "is_family                           -0.060139  0.309360   \n",
       "total_customer                      -0.113232  0.368105   \n",
       "deposit_given                       -0.086745 -0.087608   \n",
       "\n",
       "                                required_car_parking_spaces  \\\n",
       "hotel                                             -0.218873   \n",
       "is_canceled                                       -0.195498   \n",
       "lead_time                                         -0.116451   \n",
       "arrival_date_year                                 -0.013684   \n",
       "arrival_date_month                                 0.000257   \n",
       "arrival_date_week_number                           0.001920   \n",
       "arrival_date_day_of_month                          0.008683   \n",
       "stays_in_weekend_nights                           -0.018554   \n",
       "stays_in_week_nights                              -0.024859   \n",
       "meal                                              -0.038923   \n",
       "market_segment                                    -0.062226   \n",
       "distribution_channel                              -0.132280   \n",
       "is_repeated_guest                                  0.077090   \n",
       "previous_cancellations                            -0.018492   \n",
       "previous_bookings_not_canceled                     0.047653   \n",
       "reserved_room_type                                 0.131583   \n",
       "assigned_room_type                                 0.160131   \n",
       "booking_changes                                    0.065620   \n",
       "agent                                              0.113648   \n",
       "days_in_waiting_list                              -0.030600   \n",
       "customer_type                                     -0.030060   \n",
       "adr                                                0.056628   \n",
       "required_car_parking_spaces                        1.000000   \n",
       "total_of_special_requests                          0.082626   \n",
       "reservation_status                                 0.179310   \n",
       "total_nights                                      -0.025794   \n",
       "is_family                                          0.069141   \n",
       "total_customer                                     0.047934   \n",
       "deposit_given                                     -0.094982   \n",
       "\n",
       "                                total_of_special_requests  reservation_status  \\\n",
       "hotel                                           -0.043390           -0.124331   \n",
       "is_canceled                                     -0.234658           -0.917196   \n",
       "lead_time                                       -0.095712           -0.302175   \n",
       "arrival_date_year                                0.108531           -0.017683   \n",
       "arrival_date_month                               0.028026           -0.021090   \n",
       "arrival_date_week_number                         0.026149           -0.017387   \n",
       "arrival_date_day_of_month                        0.003062            0.011460   \n",
       "stays_in_weekend_nights                          0.072671            0.008558   \n",
       "stays_in_week_nights                             0.068192           -0.021607   \n",
       "meal                                             0.023136            0.015393   \n",
       "market_segment                                   0.274373           -0.061584   \n",
       "distribution_channel                             0.098815           -0.171330   \n",
       "is_repeated_guest                                0.013050            0.083504   \n",
       "previous_cancellations                          -0.048384           -0.110758   \n",
       "previous_bookings_not_canceled                   0.037824            0.055051   \n",
       "reserved_room_type                               0.137466            0.058693   \n",
       "assigned_room_type                               0.124683            0.172537   \n",
       "booking_changes                                  0.052833            0.140799   \n",
       "agent                                           -0.085429            0.123264   \n",
       "days_in_waiting_list                            -0.082730           -0.057927   \n",
       "customer_type                                   -0.135624            0.066004   \n",
       "adr                                              0.172185           -0.050520   \n",
       "required_car_parking_spaces                      0.082626            0.179310   \n",
       "total_of_special_requests                        1.000000            0.225674   \n",
       "reservation_status                               0.225674            1.000000   \n",
       "total_nights                                     0.079259           -0.012781   \n",
       "is_family                                        0.128205            0.013117   \n",
       "total_customer                                   0.156834           -0.055273   \n",
       "deposit_given                                   -0.268034           -0.478747   \n",
       "\n",
       "                                total_nights  is_family  total_customer  \\\n",
       "hotel                              -0.247479  -0.058306       -0.040821   \n",
       "is_canceled                         0.017779  -0.013010        0.046522   \n",
       "lead_time                           0.157167  -0.043972        0.072265   \n",
       "arrival_date_year                   0.031438   0.052711        0.052127   \n",
       "arrival_date_month                  0.021536   0.010427        0.027252   \n",
       "arrival_date_week_number            0.018719   0.010611        0.025220   \n",
       "arrival_date_day_of_month          -0.027408   0.014710        0.006742   \n",
       "stays_in_weekend_nights             0.762790   0.052306        0.101426   \n",
       "stays_in_week_nights                0.941005   0.050424        0.101665   \n",
       "meal                                0.045277  -0.041727       -0.005975   \n",
       "market_segment                      0.126052   0.080450        0.213221   \n",
       "distribution_channel                0.101407   0.000464        0.144357   \n",
       "is_repeated_guest                  -0.106626  -0.035127       -0.136748   \n",
       "previous_cancellations             -0.015429  -0.027262       -0.020058   \n",
       "previous_bookings_not_canceled     -0.053049  -0.022815       -0.099097   \n",
       "reserved_room_type                  0.181296   0.323910        0.383357   \n",
       "assigned_room_type                  0.109042   0.292940        0.302422   \n",
       "booking_changes                     0.096498   0.079121       -0.003173   \n",
       "agent                              -0.125406  -0.032656       -0.155423   \n",
       "days_in_waiting_list               -0.022652  -0.036312       -0.026431   \n",
       "customer_type                      -0.137577  -0.060139       -0.113232   \n",
       "adr                                 0.067945   0.309360        0.368105   \n",
       "required_car_parking_spaces        -0.025794   0.069141        0.047934   \n",
       "total_of_special_requests           0.079259   0.128205        0.156834   \n",
       "reservation_status                 -0.012781   0.013117       -0.055273   \n",
       "total_nights                        1.000000   0.058049        0.115463   \n",
       "is_family                           0.058049   1.000000        0.579899   \n",
       "total_customer                      0.115463   0.579899        1.000000   \n",
       "deposit_given                      -0.104314  -0.106643       -0.080676   \n",
       "\n",
       "                                deposit_given  \n",
       "hotel                                0.172003  \n",
       "is_canceled                          0.481457  \n",
       "lead_time                            0.380179  \n",
       "arrival_date_year                   -0.065963  \n",
       "arrival_date_month                   0.008746  \n",
       "arrival_date_week_number             0.007773  \n",
       "arrival_date_day_of_month           -0.008616  \n",
       "stays_in_weekend_nights             -0.114275  \n",
       "stays_in_week_nights                -0.079999  \n",
       "meal                                -0.090725  \n",
       "market_segment                      -0.183880  \n",
       "distribution_channel                 0.102548  \n",
       "is_repeated_guest                   -0.058423  \n",
       "previous_cancellations               0.143314  \n",
       "previous_bookings_not_canceled      -0.031509  \n",
       "reserved_room_type                  -0.201348  \n",
       "assigned_room_type                  -0.246602  \n",
       "booking_changes                     -0.119333  \n",
       "agent                               -0.013898  \n",
       "days_in_waiting_list                 0.120249  \n",
       "customer_type                       -0.086745  \n",
       "adr                                 -0.087608  \n",
       "required_car_parking_spaces         -0.094982  \n",
       "total_of_special_requests           -0.268034  \n",
       "reservation_status                  -0.478747  \n",
       "total_nights                        -0.104314  \n",
       "is_family                           -0.106643  \n",
       "total_customer                      -0.080676  \n",
       "deposit_given                        1.000000  \n",
       "\n",
       "[29 rows x 29 columns]"
      ]
     },
     "execution_count": 43,
     "metadata": {},
     "output_type": "execute_result"
    }
   ],
   "source": [
    "cor_hotel.corr()"
   ]
  },
  {
   "cell_type": "code",
   "execution_count": 44,
   "metadata": {},
   "outputs": [
    {
     "data": {
      "text/plain": [
       "reservation_status               -0.917196\n",
       "total_of_special_requests        -0.234658\n",
       "required_car_parking_spaces      -0.195498\n",
       "assigned_room_type               -0.176028\n",
       "booking_changes                  -0.144381\n",
       "agent                            -0.127883\n",
       "is_repeated_guest                -0.084793\n",
       "customer_type                    -0.068140\n",
       "reserved_room_type               -0.061282\n",
       "previous_bookings_not_canceled   -0.057358\n",
       "meal                             -0.017678\n",
       "is_family                        -0.013010\n",
       "arrival_date_day_of_month        -0.006130\n",
       "stays_in_weekend_nights          -0.001791\n",
       "arrival_date_week_number          0.008148\n",
       "arrival_date_month                0.011022\n",
       "arrival_date_year                 0.016660\n",
       "total_nights                      0.017779\n",
       "stays_in_week_nights              0.024765\n",
       "total_customer                    0.046522\n",
       "adr                               0.047557\n",
       "days_in_waiting_list              0.054186\n",
       "market_segment                    0.059338\n",
       "previous_cancellations            0.110133\n",
       "hotel                             0.136531\n",
       "distribution_channel              0.167600\n",
       "lead_time                         0.293123\n",
       "deposit_given                     0.481457\n",
       "is_canceled                       1.000000\n",
       "Name: is_canceled, dtype: float64"
      ]
     },
     "execution_count": 44,
     "metadata": {},
     "output_type": "execute_result"
    }
   ],
   "source": [
    "cor_hotel.corr()[\"is_canceled\"].sort_values()"
   ]
  },
  {
   "cell_type": "markdown",
   "metadata": {},
   "source": [
    "As can be seen in the sorted list above, reservation_status seems to be the most impactful feature. With that information, accuracy rate should be really high. It would be better to drop reservation_status column to see how other features can predict. I am going to try both.\n",
    "\n",
    "Impacts of three feature that are created:\n",
    "\n",
    "deposit_given = 0,481457\n",
    "\n",
    "is_family = -0,013010\n",
    "\n",
    "total_customer = 0,046522\n",
    "\n",
    "Apart from this, I will not use arrival_date_week_number, stays_in_weekend_nights and arrival_date_day_of_month since their importance are really low while predicting cancellations.\n",
    "\n",
    "In addition, we still have some missing values in agent column. It has nice importance on predicting cancellation but since the missing values are equal to 13% of the total data it is better to drop that column. It has a lot of class inside of it otherwise we could try predicting missing values but they may misguide the predictions."
   ]
  },
  {
   "cell_type": "code",
   "execution_count": 45,
   "metadata": {},
   "outputs": [
    {
     "data": {
      "text/plain": [
       "hotel                            -0.234020\n",
       "is_canceled                       0.024765\n",
       "lead_time                         0.165799\n",
       "arrival_date_year                 0.030883\n",
       "arrival_date_month                0.019212\n",
       "arrival_date_week_number          0.015558\n",
       "arrival_date_day_of_month        -0.028174\n",
       "stays_in_weekend_nights           0.498969\n",
       "stays_in_week_nights              1.000000\n",
       "meal                              0.036742\n",
       "market_segment                    0.108569\n",
       "distribution_channel              0.087185\n",
       "is_repeated_guest                -0.097245\n",
       "previous_cancellations           -0.013992\n",
       "previous_bookings_not_canceled   -0.048743\n",
       "reserved_room_type                0.168616\n",
       "assigned_room_type                0.100795\n",
       "booking_changes                   0.096209\n",
       "agent                            -0.110354\n",
       "days_in_waiting_list             -0.002020\n",
       "customer_type                    -0.127223\n",
       "adr                               0.065237\n",
       "required_car_parking_spaces      -0.024859\n",
       "total_of_special_requests         0.068192\n",
       "reservation_status               -0.021607\n",
       "total_nights                      0.941005\n",
       "is_family                         0.050424\n",
       "total_customer                    0.101665\n",
       "deposit_given                    -0.079999\n",
       "Name: stays_in_week_nights, dtype: float64"
      ]
     },
     "execution_count": 45,
     "metadata": {},
     "output_type": "execute_result"
    }
   ],
   "source": [
    "# It is highly correlated to total_nights and also there is no much difference impact, so I will not use total_nights.\n",
    "#Week nights have higher impact.\n",
    "\"\"\"\n",
    "I tried some models by using different features as (only total_nights | weekend_nights and week_nights | only week_nights ...) \n",
    "and the models using only week nights seems to have a bit higher accuracy score. \n",
    "\"\"\"\n",
    "\n",
    "cor_hotel.corr()['stays_in_week_nights']"
   ]
  },
  {
   "cell_type": "code",
   "execution_count": 46,
   "metadata": {},
   "outputs": [],
   "source": [
    "cor_hotel = cor_hotel.drop(columns = ['total_nights', 'arrival_date_week_number', 'stays_in_weekend_nights', 'arrival_date_month', 'agent'], axis = 1)"
   ]
  },
  {
   "cell_type": "code",
   "execution_count": 47,
   "metadata": {},
   "outputs": [
    {
     "data": {
      "text/plain": [
       "hotel                             0\n",
       "is_canceled                       0\n",
       "lead_time                         0\n",
       "arrival_date_year                 0\n",
       "arrival_date_day_of_month         0\n",
       "stays_in_week_nights              0\n",
       "meal                              0\n",
       "country                           0\n",
       "market_segment                    0\n",
       "distribution_channel              0\n",
       "is_repeated_guest                 0\n",
       "previous_cancellations            0\n",
       "previous_bookings_not_canceled    0\n",
       "reserved_room_type                0\n",
       "assigned_room_type                0\n",
       "booking_changes                   0\n",
       "days_in_waiting_list              0\n",
       "customer_type                     0\n",
       "adr                               0\n",
       "required_car_parking_spaces       0\n",
       "total_of_special_requests         0\n",
       "reservation_status                0\n",
       "is_family                         0\n",
       "total_customer                    0\n",
       "deposit_given                     0\n",
       "dtype: int64"
      ]
     },
     "execution_count": 47,
     "metadata": {},
     "output_type": "execute_result"
    }
   ],
   "source": [
    "# Lets delete the NA rows of country column\n",
    "indices = cor_hotel.loc[pd.isna(cor_hotel[\"country\"]), :].index \n",
    "cor_hotel = cor_hotel.drop(cor_hotel.index[indices])   \n",
    "cor_hotel.isnull().sum()\n",
    "\n",
    "# There is no missing value in the data"
   ]
  },
  {
   "cell_type": "markdown",
   "metadata": {},
   "source": [
    "Since we have decided what to do with features and missing values, we can now work on our data."
   ]
  },
  {
   "cell_type": "code",
   "execution_count": 48,
   "metadata": {},
   "outputs": [],
   "source": [
    "indices = hotel.loc[pd.isna(hotel[\"country\"]), :].index \n",
    "hotel = hotel.drop(hotel.index[indices])   \n",
    "hotel = hotel.drop(columns = ['arrival_date_week_number', 'stays_in_weekend_nights', 'arrival_date_month', 'agent'], axis = 1)"
   ]
  },
  {
   "cell_type": "code",
   "execution_count": 49,
   "metadata": {},
   "outputs": [
    {
     "data": {
      "text/plain": [
       "Index(['hotel', 'is_canceled', 'lead_time', 'arrival_date_year',\n",
       "       'arrival_date_day_of_month', 'stays_in_week_nights', 'meal', 'country',\n",
       "       'market_segment', 'distribution_channel', 'is_repeated_guest',\n",
       "       'previous_cancellations', 'previous_bookings_not_canceled',\n",
       "       'reserved_room_type', 'assigned_room_type', 'booking_changes',\n",
       "       'days_in_waiting_list', 'customer_type', 'adr',\n",
       "       'required_car_parking_spaces', 'total_of_special_requests',\n",
       "       'reservation_status', 'total_nights', 'is_family', 'total_customer',\n",
       "       'deposit_given'],\n",
       "      dtype='object')"
      ]
     },
     "execution_count": 49,
     "metadata": {},
     "output_type": "execute_result"
    }
   ],
   "source": [
    "hotel.columns"
   ]
  },
  {
   "cell_type": "code",
   "execution_count": 50,
   "metadata": {},
   "outputs": [],
   "source": [
    "# I will copy data in case of any changes on features, missing values, etc.\n",
    "hot = hotel.copy()"
   ]
  },
  {
   "cell_type": "code",
   "execution_count": 51,
   "metadata": {},
   "outputs": [],
   "source": [
    "# Let's use one-hot-encoding\n",
    "hot = pd.get_dummies(data = hot, columns = ['meal', 'market_segment', 'distribution_channel',\n",
    "                                            'reserved_room_type', 'assigned_room_type', 'customer_type', 'reservation_status'])"
   ]
  },
  {
   "cell_type": "code",
   "execution_count": 52,
   "metadata": {},
   "outputs": [],
   "source": [
    "hot['country'] = le.fit_transform(hot['country']) \n",
    "# There are more than 300 classes, so I wanted to use label encoder on this feature."
   ]
  },
  {
   "cell_type": "markdown",
   "metadata": {},
   "source": [
    "## Decision Tree Model (reservation_status included)"
   ]
  },
  {
   "cell_type": "markdown",
   "metadata": {},
   "source": [
    "Decision trees come under the supervised learning algorithms category. It is primarily used for regression and classification in machine learning models. It provides transparency by offering a single view of all traces and alternatives. Decision tree also assign specific values to problems and decisions, enabling better decision-making."
   ]
  },
  {
   "cell_type": "code",
   "execution_count": 53,
   "metadata": {},
   "outputs": [],
   "source": [
    "y = hot[\"is_canceled\"]\n",
    "x = hot.drop([\"is_canceled\"], axis=1)\n",
    "\n",
    "x_train, x_test, y_train, y_test = train_test_split(x, y, test_size = 0.30, random_state = 42)"
   ]
  },
  {
   "cell_type": "code",
   "execution_count": 54,
   "metadata": {},
   "outputs": [],
   "source": [
    "cart = DecisionTreeClassifier(max_depth = 12)"
   ]
  },
  {
   "cell_type": "code",
   "execution_count": 55,
   "metadata": {},
   "outputs": [],
   "source": [
    "cart_model = cart.fit(x_train, y_train)"
   ]
  },
  {
   "cell_type": "code",
   "execution_count": 56,
   "metadata": {},
   "outputs": [],
   "source": [
    "y_pred = cart_model.predict(x_test)"
   ]
  },
  {
   "cell_type": "code",
   "execution_count": 57,
   "metadata": {},
   "outputs": [
    {
     "name": "stdout",
     "output_type": "stream",
     "text": [
      "Decision Tree Model\n",
      "Accuracy Score: 1.0\n",
      "\n",
      "Confusion Matrix:\n",
      " [[22353     0]\n",
      " [    0 13318]]\n",
      "\n",
      "AUC Score: 1.0\n"
     ]
    }
   ],
   "source": [
    "print('Decision Tree Model')\n",
    "\n",
    "print('Accuracy Score: {}\\n\\nConfusion Matrix:\\n {}\\n\\nAUC Score: {}'\n",
    "      .format(accuracy_score(y_test,y_pred), confusion_matrix(y_test,y_pred), roc_auc_score(y_test,y_pred)))"
   ]
  },
  {
   "cell_type": "code",
   "execution_count": 58,
   "metadata": {},
   "outputs": [
    {
     "data": {
      "text/plain": [
       "Text(0.5, 0, 'Feature Importances (%)')"
      ]
     },
     "execution_count": 58,
     "metadata": {},
     "output_type": "execute_result"
    },
    {
     "data": {
      "image/png": "[encoded data removed]",
      "text/plain": [
       "<Figure size 432x288 with 1 Axes>"
      ]
     },
     "metadata": {},
     "output_type": "display_data"
    }
   ],
   "source": [
    "pd.DataFrame(data = cart_model.feature_importances_*100,\n",
    "                   columns = [\"Importances\"],\n",
    "                   index = x_train.columns).sort_values(\"Importances\", ascending = False)[:20].plot(kind = \"barh\", color = \"r\")\n",
    "\n",
    "plt.xlabel(\"Feature Importances (%)\")"
   ]
  },
  {
   "cell_type": "markdown",
   "metadata": {},
   "source": [
    "In the correlation part above, we have seen the impact of reservation_status. Reservation_status dominates other features totally. By keeping reservation_status in the data, it is possible to achieve 100% accuracy rate because that feature is direct way to predict cancellations, its like cheating. For the sake of analysis, I will drop reservation_status and continue the analysis without it."
   ]
  },
  {
   "cell_type": "markdown",
   "metadata": {},
   "source": [
    "## Final Arrangements Before Comparing the Models"
   ]
  },
  {
   "cell_type": "code",
   "execution_count": 59,
   "metadata": {},
   "outputs": [],
   "source": [
    "fin = hot.drop(columns = ['reservation_status_Canceled', 'reservation_status_Check-Out', 'reservation_status_No-Show'], axis = 1)"
   ]
  },
  {
   "cell_type": "code",
   "execution_count": 60,
   "metadata": {},
   "outputs": [],
   "source": [
    "y = fin[\"is_canceled\"]\n",
    "x = fin.drop([\"is_canceled\"], axis=1)\n",
    "\n",
    "x_train, x_test, y_train, y_test = train_test_split(x, y, test_size = 0.30, random_state = 42)"
   ]
  },
  {
   "cell_type": "code",
   "execution_count": 61,
   "metadata": {},
   "outputs": [],
   "source": [
    "# We can use the functions to apply the models and roc curves to save space.\n",
    "def model(algorithm, x_train, x_test, y_train, y_test):\n",
    "    alg = algorithm\n",
    "    alg_model = alg.fit(x_train, y_train)\n",
    "    global y_prob, y_pred\n",
    "    y_prob = alg.predict_proba(x_test)[:,1]\n",
    "    y_pred = alg_model.predict(x_test)\n",
    "\n",
    "    print('Accuracy Score: {}\\n\\nConfusion Matrix:\\n {}'\n",
    "      .format(accuracy_score(y_test,y_pred), confusion_matrix(y_test,y_pred)))\n",
    "    \n",
    "\n",
    "def ROC(y_test, y_prob):\n",
    "    \n",
    "    false_positive_rate, true_positive_rate, threshold = roc_curve(y_test, y_prob)\n",
    "    roc_auc = auc(false_positive_rate, true_positive_rate)\n",
    "    \n",
    "    plt.figure(figsize = (10,10))\n",
    "    plt.title('Receiver Operating Characteristic')\n",
    "    plt.plot(false_positive_rate, true_positive_rate, color = 'red', label = 'AUC = %0.2f' % roc_auc)\n",
    "    plt.legend(loc = 'lower right')\n",
    "    plt.plot([0, 1], [0, 1], linestyle = '--')\n",
    "    plt.axis('tight')\n",
    "    plt.ylabel('True Positive Rate')\n",
    "    plt.xlabel('False Positive Rate')\n"
   ]
  },
  {
   "cell_type": "markdown",
   "metadata": {},
   "source": [
    "## Model and ROC Curve Comparison"
   ]
  },
  {
   "cell_type": "markdown",
   "metadata": {},
   "source": [
    "RECEIVER OPERATING CHARACTERISTICS(ROC Curve)\n",
    "\n",
    "Receiver Operating Characteristic(ROC) curve is a plot of the true positive rate against the false positive rate. It shows the tradeoff between sensitivity and specificity."
   ]
  },
  {
   "cell_type": "markdown",
   "metadata": {},
   "source": [
    "LOGISTIC REGRESSION\n",
    "\n",
    "Logistic regression is a supervised learning classification algorithm used to predict the probability of a target variable.\n",
    "Because of its efficient and straightforward nature, it doesn't require high computation power, easy to implement, easily interpretable, used widely by data analysts and scientists. Also, it doesn't require scaling of features. Logistic regression provides a probability score for observations"
   ]
  },
  {
   "cell_type": "code",
   "execution_count": 62,
   "metadata": {},
   "outputs": [
    {
     "name": "stdout",
     "output_type": "stream",
     "text": [
      "Model: Logistic Regression\n",
      "\n",
      "Accuracy Score: 0.8047994168932746\n",
      "\n",
      "Confusion Matrix:\n",
      " [[20480  1873]\n",
      " [ 5090  8228]]\n"
     ]
    }
   ],
   "source": [
    "print('Model: Logistic Regression\\n')\n",
    "model(LogisticRegression(solver = \"liblinear\"), x_train, x_test, y_train, y_test)"
   ]
  },
  {
   "cell_type": "code",
   "execution_count": 63,
   "metadata": {},
   "outputs": [
    {
     "name": "stdout",
     "output_type": "stream",
     "text": [
      "Mean Score of CV:  0.7703740330889889\n"
     ]
    }
   ],
   "source": [
    "LogR = LogisticRegression(solver = \"liblinear\")\n",
    "cv_scores = cross_val_score(LogR, x, y, cv = 8, scoring = 'accuracy')\n",
    "print('Mean Score of CV: ', cv_scores.mean())"
   ]
  },
  {
   "cell_type": "code",
   "execution_count": 64,
   "metadata": {},
   "outputs": [
    {
     "data": {
      "image/png": "[encoded data removed]",
      "text/plain": [
       "<Figure size 720x720 with 1 Axes>"
      ]
     },
     "metadata": {},
     "output_type": "display_data"
    }
   ],
   "source": [
    "ROC(y_test, y_prob)"
   ]
  },
  {
   "cell_type": "markdown",
   "metadata": {},
   "source": [
    "## Gaussian Naive Bayes Model"
   ]
  },
  {
   "cell_type": "markdown",
   "metadata": {},
   "source": [
    "Gaussian Naive Bayes is a variant of Naive Bayes that follows Gaussian normal distribution and supports continuous data. Gaussian Naive Bayes supports continuous valued features and models each as conforming to a Gaussian (normal) distribution.\n"
   ]
  },
  {
   "cell_type": "code",
   "execution_count": 65,
   "metadata": {},
   "outputs": [
    {
     "name": "stdout",
     "output_type": "stream",
     "text": [
      "Model: Gaussian Naive Bayes\n",
      "\n",
      "Accuracy Score: 0.586246530795324\n",
      "\n",
      "Confusion Matrix:\n",
      " [[ 9604 12749]\n",
      " [ 2010 11308]]\n"
     ]
    }
   ],
   "source": [
    "print('Model: Gaussian Naive Bayes\\n')\n",
    "model(GaussianNB(), x_train, x_test, y_train, y_test)"
   ]
  },
  {
   "cell_type": "code",
   "execution_count": 66,
   "metadata": {},
   "outputs": [
    {
     "name": "stdout",
     "output_type": "stream",
     "text": [
      "Mean Score of CV:  0.5624280984012298\n"
     ]
    }
   ],
   "source": [
    "NB = GaussianNB()\n",
    "cv_scores = cross_val_score(NB, x, y, cv = 8, scoring = 'accuracy')\n",
    "print('Mean Score of CV: ', cv_scores.mean())"
   ]
  },
  {
   "cell_type": "code",
   "execution_count": 67,
   "metadata": {},
   "outputs": [
    {
     "data": {
      "image/png": "[encoded data removed]",
      "text/plain": [
       "<Figure size 720x720 with 1 Axes>"
      ]
     },
     "metadata": {},
     "output_type": "display_data"
    }
   ],
   "source": [
    "ROC(y_test, y_prob)"
   ]
  },
  {
   "cell_type": "markdown",
   "metadata": {},
   "source": [
    "## Decision Tree Model (reservation_status excluded)"
   ]
  },
  {
   "cell_type": "code",
   "execution_count": 68,
   "metadata": {},
   "outputs": [
    {
     "name": "stdout",
     "output_type": "stream",
     "text": [
      "Model: Decision Tree\n",
      "\n",
      "Accuracy Score: 0.846317737097362\n",
      "\n",
      "Confusion Matrix:\n",
      " [[20375  1978]\n",
      " [ 3504  9814]]\n"
     ]
    }
   ],
   "source": [
    "print('Model: Decision Tree\\n')\n",
    "model(DecisionTreeClassifier(max_depth = 12), x_train, x_test, y_train, y_test)"
   ]
  },
  {
   "cell_type": "code",
   "execution_count": 69,
   "metadata": {},
   "outputs": [
    {
     "name": "stdout",
     "output_type": "stream",
     "text": [
      "Mean Score of CV:  0.674041871259228\n"
     ]
    }
   ],
   "source": [
    "DTC = DecisionTreeClassifier(max_depth = 12)\n",
    "cv_scores = cross_val_score(DTC, x, y, cv = 8, scoring = 'accuracy')\n",
    "print('Mean Score of CV: ', cv_scores.mean())"
   ]
  },
  {
   "cell_type": "code",
   "execution_count": 70,
   "metadata": {},
   "outputs": [
    {
     "data": {
      "image/png": "[encoded data removed]",
      "text/plain": [
       "<Figure size 720x720 with 1 Axes>"
      ]
     },
     "metadata": {},
     "output_type": "display_data"
    }
   ],
   "source": [
    "ROC(y_test, y_prob)"
   ]
  },
  {
   "cell_type": "markdown",
   "metadata": {},
   "source": [
    "## Random Forest Classifier"
   ]
  },
  {
   "cell_type": "markdown",
   "metadata": {},
   "source": [
    "Random forest is a supervised learning algorithm which is used for both classification as well as regression. But however, it is mainly used for classification problems. Random forest algorithm creates decision trees on data samples and then gets the prediction from each of them and finally selects the best solution by means of voting. It is an ensemble method which is better than a single decision tree because it reduces the over-fitting by averaging the result.\n"
   ]
  },
  {
   "cell_type": "code",
   "execution_count": 71,
   "metadata": {},
   "outputs": [
    {
     "name": "stdout",
     "output_type": "stream",
     "text": [
      "Model: Random Forest\n",
      "\n",
      "Accuracy Score: 0.8849485576518741\n",
      "\n",
      "Confusion Matrix:\n",
      " [[20966  1387]\n",
      " [ 2717 10601]]\n"
     ]
    }
   ],
   "source": [
    "print('Model: Random Forest\\n')\n",
    "model(RandomForestClassifier(), x_train, x_test, y_train, y_test)"
   ]
  },
  {
   "cell_type": "code",
   "execution_count": 72,
   "metadata": {},
   "outputs": [
    {
     "name": "stdout",
     "output_type": "stream",
     "text": [
      "Mean Score of CV:  0.6719982006882526\n"
     ]
    }
   ],
   "source": [
    "RFC = RandomForestClassifier()\n",
    "cv_scores = cross_val_score(RFC, x, y, cv = 8, scoring = 'accuracy')\n",
    "print('Mean Score of CV: ', cv_scores.mean())"
   ]
  },
  {
   "cell_type": "code",
   "execution_count": 73,
   "metadata": {},
   "outputs": [
    {
     "data": {
      "image/png": "[encoded data removed]",
      "text/plain": [
       "<Figure size 720x720 with 1 Axes>"
      ]
     },
     "metadata": {},
     "output_type": "display_data"
    }
   ],
   "source": [
    "ROC(y_test, y_prob)"
   ]
  },
  {
   "cell_type": "markdown",
   "metadata": {},
   "source": [
    "## Random Forest Model Tuning"
   ]
  },
  {
   "cell_type": "code",
   "execution_count": 74,
   "metadata": {},
   "outputs": [],
   "source": [
    "rf_parameters = {\"max_depth\": [10,13],\n",
    "                 \"n_estimators\": [10,100,500],\n",
    "                 \"min_samples_split\": [2,5]}"
   ]
  },
  {
   "cell_type": "code",
   "execution_count": 75,
   "metadata": {},
   "outputs": [],
   "source": [
    "rf_model = RandomForestClassifier()"
   ]
  },
  {
   "cell_type": "code",
   "execution_count": 76,
   "metadata": {},
   "outputs": [
    {
     "name": "stdout",
     "output_type": "stream",
     "text": [
      "Fitting 10 folds for each of 12 candidates, totalling 120 fits\n"
     ]
    },
    {
     "name": "stderr",
     "output_type": "stream",
     "text": [
      "[Parallel(n_jobs=-1)]: Using backend LokyBackend with 4 concurrent workers.\n",
      "[Parallel(n_jobs=-1)]: Done  33 tasks      | elapsed:  4.7min\n",
      "[Parallel(n_jobs=-1)]: Done 120 out of 120 | elapsed: 24.2min finished\n"
     ]
    },
    {
     "data": {
      "text/plain": [
       "GridSearchCV(cv=10, error_score=nan,\n",
       "             estimator=RandomForestClassifier(bootstrap=True, ccp_alpha=0.0,\n",
       "                                              class_weight=None,\n",
       "                                              criterion='gini', max_depth=None,\n",
       "                                              max_features='auto',\n",
       "                                              max_leaf_nodes=None,\n",
       "                                              max_samples=None,\n",
       "                                              min_impurity_decrease=0.0,\n",
       "                                              min_impurity_split=None,\n",
       "                                              min_samples_leaf=1,\n",
       "                                              min_samples_split=2,\n",
       "                                              min_weight_fraction_leaf=0.0,\n",
       "                                              n_estimators=100, n_jobs=None,\n",
       "                                              oob_score=False,\n",
       "                                              random_state=None, verbose=0,\n",
       "                                              warm_start=False),\n",
       "             iid='deprecated', n_jobs=-1,\n",
       "             param_grid={'max_depth': [10, 13], 'min_samples_split': [2, 5],\n",
       "                         'n_estimators': [10, 100, 500]},\n",
       "             pre_dispatch='2*n_jobs', refit=True, return_train_score=False,\n",
       "             scoring=None, verbose=2)"
      ]
     },
     "execution_count": 76,
     "metadata": {},
     "output_type": "execute_result"
    }
   ],
   "source": [
    "rf_cv_model = GridSearchCV(rf_model,\n",
    "                           rf_parameters,\n",
    "                           cv = 10,\n",
    "                           n_jobs = -1,\n",
    "                           verbose = 2)\n",
    "\n",
    "rf_cv_model.fit(x_train, y_train)"
   ]
  },
  {
   "cell_type": "code",
   "execution_count": 77,
   "metadata": {},
   "outputs": [
    {
     "name": "stdout",
     "output_type": "stream",
     "text": [
      "Best parameters: {'max_depth': 13, 'min_samples_split': 2, 'n_estimators': 500}\n"
     ]
    }
   ],
   "source": [
    "print('Best parameters: ' + str(rf_cv_model.best_params_))"
   ]
  },
  {
   "cell_type": "code",
   "execution_count": 78,
   "metadata": {},
   "outputs": [
    {
     "name": "stdout",
     "output_type": "stream",
     "text": [
      "Model: Random Forest Tuned\n",
      "\n",
      "Accuracy Score: 0.8520086344649715\n",
      "\n",
      "Confusion Matrix:\n",
      " [[21104  1249]\n",
      " [ 4030  9288]]\n"
     ]
    }
   ],
   "source": [
    "rf_tuned = RandomForestClassifier(max_depth = 13,\n",
    "                                  min_samples_split = 2,\n",
    "                                  n_estimators = 500)\n",
    "\n",
    "print('Model: Random Forest Tuned\\n')\n",
    "model(rf_tuned, x_train, x_test, y_train, y_test)"
   ]
  },
  {
   "cell_type": "markdown",
   "metadata": {},
   "source": [
    "Tuned model has worse accuracy score than default one. In the default model there is no limit for max depth. Increasing max depth gives us better accuracy scores but may decrease generalization."
   ]
  },
  {
   "cell_type": "markdown",
   "metadata": {},
   "source": [
    "##                                                          Conclusion"
   ]
  },
  {
   "cell_type": "markdown",
   "metadata": {},
   "source": [
    "## Feature Importances"
   ]
  },
  {
   "cell_type": "code",
   "execution_count": 79,
   "metadata": {},
   "outputs": [
    {
     "data": {
      "text/plain": [
       "Text(0.5, 0, 'Feature Importances (%)')"
      ]
     },
     "execution_count": 79,
     "metadata": {},
     "output_type": "execute_result"
    },
    {
     "data": {
      "image/png": "[encoded data removed]",
      "text/plain": [
       "<Figure size 432x288 with 1 Axes>"
      ]
     },
     "metadata": {},
     "output_type": "display_data"
    }
   ],
   "source": [
    "randomf = RandomForestClassifier()\n",
    "rf_model1 = randomf.fit(x_train, y_train)\n",
    "\n",
    "pd.DataFrame(data = rf_model1.feature_importances_*100,\n",
    "                   columns = [\"Importances\"],\n",
    "                   index = x_train.columns).sort_values(\"Importances\", ascending = False)[:15].plot(kind = \"barh\", color = \"r\")\n",
    "\n",
    "plt.xlabel(\"Feature Importances (%)\")"
   ]
  },
  {
   "cell_type": "markdown",
   "metadata": {},
   "source": [
    "## Summary Table of the Models"
   ]
  },
  {
   "cell_type": "code",
   "execution_count": 80,
   "metadata": {},
   "outputs": [
    {
     "data": {
      "text/html": [
       "<div>\n",
       "<style scoped>\n",
       "    .dataframe tbody tr th:only-of-type {\n",
       "        vertical-align: middle;\n",
       "    }\n",
       "\n",
       "    .dataframe tbody tr th {\n",
       "        vertical-align: top;\n",
       "    }\n",
       "\n",
       "    .dataframe thead th {\n",
       "        text-align: right;\n",
       "    }\n",
       "</style>\n",
       "<table border=\"1\" class=\"dataframe\">\n",
       "  <thead>\n",
       "    <tr style=\"text-align: right;\">\n",
       "      <th></th>\n",
       "      <th>Accuracy Scores</th>\n",
       "      <th>ROC | Auc</th>\n",
       "    </tr>\n",
       "    <tr>\n",
       "      <th>Model</th>\n",
       "      <th></th>\n",
       "      <th></th>\n",
       "    </tr>\n",
       "  </thead>\n",
       "  <tbody>\n",
       "    <tr>\n",
       "      <th>Decision Tree (reservation_status included)</th>\n",
       "      <td>1.000</td>\n",
       "      <td>1.00</td>\n",
       "    </tr>\n",
       "    <tr>\n",
       "      <th>Random Forest</th>\n",
       "      <td>0.886</td>\n",
       "      <td>0.95</td>\n",
       "    </tr>\n",
       "    <tr>\n",
       "      <th>Random Forest Tuned</th>\n",
       "      <td>0.853</td>\n",
       "      <td>0.00</td>\n",
       "    </tr>\n",
       "    <tr>\n",
       "      <th>Decision Tree (reservation_status excluded)</th>\n",
       "      <td>0.846</td>\n",
       "      <td>0.92</td>\n",
       "    </tr>\n",
       "    <tr>\n",
       "      <th>Logistic Regression</th>\n",
       "      <td>0.805</td>\n",
       "      <td>0.87</td>\n",
       "    </tr>\n",
       "    <tr>\n",
       "      <th>Gaussian Naive Bayes</th>\n",
       "      <td>0.586</td>\n",
       "      <td>0.78</td>\n",
       "    </tr>\n",
       "  </tbody>\n",
       "</table>\n",
       "</div>"
      ],
      "text/plain": [
       "                                             Accuracy Scores  ROC | Auc\n",
       "Model                                                                  \n",
       "Decision Tree (reservation_status included)            1.000       1.00\n",
       "Random Forest                                          0.886       0.95\n",
       "Random Forest Tuned                                    0.853       0.00\n",
       "Decision Tree (reservation_status excluded)            0.846       0.92\n",
       "Logistic Regression                                    0.805       0.87\n",
       "Gaussian Naive Bayes                                   0.586       0.78"
      ]
     },
     "execution_count": 80,
     "metadata": {},
     "output_type": "execute_result"
    }
   ],
   "source": [
    "table = pd.DataFrame({\"Model\": [\"Decision Tree (reservation_status included)\", \"Logistic Regression\",\n",
    "                                \"Gaussian Naive Bayes\", \"Decision Tree (reservation_status excluded)\", \"Random Forest\",\n",
    "                                \"Random Forest Tuned\"],\n",
    "                     \"Accuracy Scores\": [\"1\", \"0.805\", \"0.586\", \"0.846\", \"0.886\",\n",
    "                                         \"0.853\"],\n",
    "                     \"ROC | Auc\": [\"1\", \"0.87\", \"0.78\",\n",
    "                                   \"0.92\", \"0.95\", \"0\"]})\n",
    "\n",
    "\n",
    "table[\"Model\"] = table[\"Model\"].astype(\"category\")\n",
    "table[\"Accuracy Scores\"] = table[\"Accuracy Scores\"].astype(\"float32\")\n",
    "table[\"ROC | Auc\"] = table[\"ROC | Auc\"].astype(\"float32\")\n",
    "\n",
    "pd.pivot_table(table, index = [\"Model\"]).sort_values(by = 'Accuracy Scores', ascending=False)"
   ]
  },
  {
   "cell_type": "markdown",
   "metadata": {},
   "source": [
    "From the summary table presented above, we can observe that the best algorithm is Random Forest for this dataset analysis.\n",
    "\n",
    "0 values are uncalculated ones.\n",
    "\n",
    "We did not count the decision tree with Reservation_Status because all the algorithms would give 100% accuracy scores when \n",
    "Reservation_Status is included.\n",
    "\n",
    "\n",
    "Furthermore, we learned that:\n",
    "\n",
    "Bookings got canceled 37% of the time. While booking guest checked-in (did not cancel the booking ) almost 63% of the time.\n",
    "\n",
    "More than double bookings were made in 2016, compared to the previous year of 2015. But the bookings decreased by almost 15% the next year 2017..\n",
    "\n",
    "Most bookings were made from July to August. While the least bookings were made at the start and end of the year.\n",
    "\n",
    "Portugal,UK,France,Spain and Germany are the top countries from which most guests come from. This means that more than 80% of guest come from these 5 countries..\n",
    "\n",
    "Most people stay Two,Three,One and four. Therefore,more than 60% of guests come under these options.\n",
    "\n",
    "-> For Resort hotels, the most popular stay duration is one, two, three, and four days respectively.\n",
    "\n",
    "-> For City hotels, the most popular stay duration is one, two, three, and seven(weeks) respectively.\n",
    "\n",
    "More than 60% of the population booked a City hotel.\n",
    "\n",
    "We observe that couples (or 2 adults) is the most popular accommodation type. So hotels can make plans accordingly."
   ]
  }
 ],
 "metadata": {
  "kernelspec": {
   "display_name": "Python 3",
   "language": "python",
   "name": "python3"
  },
  "language_info": {
   "codemirror_mode": {
    "name": "ipython",
    "version": 3
   },
   "file_extension": ".py",
   "mimetype": "text/x-python",
   "name": "python",
   "nbconvert_exporter": "python",
   "pygments_lexer": "ipython3",
   "version": "3.7.6"
  }
 },
 "nbformat": 4,
 "nbformat_minor": 4
}
